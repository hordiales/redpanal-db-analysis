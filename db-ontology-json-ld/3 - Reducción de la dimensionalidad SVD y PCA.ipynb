{
 "cells": [
  {
   "cell_type": "markdown",
   "metadata": {},
   "source": [
    "# PCA"
   ]
  },
  {
   "cell_type": "code",
   "execution_count": 1,
   "metadata": {},
   "outputs": [],
   "source": [
    "from pandas import read_csv"
   ]
  },
  {
   "cell_type": "code",
   "execution_count": 2,
   "metadata": {},
   "outputs": [
    {
     "data": {
      "text/html": [
       "<div>\n",
       "<style scoped>\n",
       "    .dataframe tbody tr th:only-of-type {\n",
       "        vertical-align: middle;\n",
       "    }\n",
       "\n",
       "    .dataframe tbody tr th {\n",
       "        vertical-align: top;\n",
       "    }\n",
       "\n",
       "    .dataframe thead th {\n",
       "        text-align: right;\n",
       "    }\n",
       "</style>\n",
       "<table border=\"1\" class=\"dataframe\">\n",
       "  <thead>\n",
       "    <tr style=\"text-align: right;\">\n",
       "      <th></th>\n",
       "      <th>Duration</th>\n",
       "      <th>Loudness</th>\n",
       "      <th>LogAttackTime</th>\n",
       "      <th>Tempo</th>\n",
       "      <th>Tempo.confidence</th>\n",
       "      <th>TemporalCentroid</th>\n",
       "      <th>Pitch</th>\n",
       "      <th>Pitch.confidence</th>\n",
       "      <th>Key</th>\n",
       "      <th>Key.confidence</th>\n",
       "      <th>Loop</th>\n",
       "    </tr>\n",
       "  </thead>\n",
       "  <tbody>\n",
       "    <tr>\n",
       "      <th>0</th>\n",
       "      <td>24.688000</td>\n",
       "      <td>-9.428771</td>\n",
       "      <td>0.643956</td>\n",
       "      <td>122</td>\n",
       "      <td>0.150326</td>\n",
       "      <td>0.554729</td>\n",
       "      <td>150.475891</td>\n",
       "      <td>0.0</td>\n",
       "      <td>A minor</td>\n",
       "      <td>0.670985</td>\n",
       "      <td>False</td>\n",
       "    </tr>\n",
       "    <tr>\n",
       "      <th>1</th>\n",
       "      <td>9.743673</td>\n",
       "      <td>-15.724195</td>\n",
       "      <td>-1.538928</td>\n",
       "      <td>99</td>\n",
       "      <td>0.952932</td>\n",
       "      <td>0.515523</td>\n",
       "      <td>172.650284</td>\n",
       "      <td>0.0</td>\n",
       "      <td>A# major</td>\n",
       "      <td>0.545118</td>\n",
       "      <td>True</td>\n",
       "    </tr>\n",
       "    <tr>\n",
       "      <th>2</th>\n",
       "      <td>2.965000</td>\n",
       "      <td>-41.118546</td>\n",
       "      <td>-0.108449</td>\n",
       "      <td>98</td>\n",
       "      <td>0.000000</td>\n",
       "      <td>0.436209</td>\n",
       "      <td>1856.814087</td>\n",
       "      <td>0.0</td>\n",
       "      <td>C# minor</td>\n",
       "      <td>0.359346</td>\n",
       "      <td>False</td>\n",
       "    </tr>\n",
       "    <tr>\n",
       "      <th>3</th>\n",
       "      <td>212.834106</td>\n",
       "      <td>-13.990514</td>\n",
       "      <td>1.079394</td>\n",
       "      <td>94</td>\n",
       "      <td>0.661590</td>\n",
       "      <td>0.471911</td>\n",
       "      <td>233.854294</td>\n",
       "      <td>0.0</td>\n",
       "      <td>B major</td>\n",
       "      <td>0.878675</td>\n",
       "      <td>False</td>\n",
       "    </tr>\n",
       "    <tr>\n",
       "      <th>4</th>\n",
       "      <td>1.985306</td>\n",
       "      <td>-12.687588</td>\n",
       "      <td>-0.707071</td>\n",
       "      <td>125</td>\n",
       "      <td>0.000000</td>\n",
       "      <td>0.517171</td>\n",
       "      <td>269.756226</td>\n",
       "      <td>0.0</td>\n",
       "      <td>C major</td>\n",
       "      <td>0.736795</td>\n",
       "      <td>False</td>\n",
       "    </tr>\n",
       "  </tbody>\n",
       "</table>\n",
       "</div>"
      ],
      "text/plain": [
       "     Duration   Loudness  LogAttackTime  Tempo  Tempo.confidence  \\\n",
       "0   24.688000  -9.428771       0.643956    122          0.150326   \n",
       "1    9.743673 -15.724195      -1.538928     99          0.952932   \n",
       "2    2.965000 -41.118546      -0.108449     98          0.000000   \n",
       "3  212.834106 -13.990514       1.079394     94          0.661590   \n",
       "4    1.985306 -12.687588      -0.707071    125          0.000000   \n",
       "\n",
       "   TemporalCentroid        Pitch  Pitch.confidence       Key  Key.confidence  \\\n",
       "0          0.554729   150.475891               0.0   A minor        0.670985   \n",
       "1          0.515523   172.650284               0.0  A# major        0.545118   \n",
       "2          0.436209  1856.814087               0.0  C# minor        0.359346   \n",
       "3          0.471911   233.854294               0.0   B major        0.878675   \n",
       "4          0.517171   269.756226               0.0   C major        0.736795   \n",
       "\n",
       "    Loop  \n",
       "0  False  \n",
       "1   True  \n",
       "2  False  \n",
       "3  False  \n",
       "4  False  "
      ]
     },
     "execution_count": 2,
     "metadata": {},
     "output_type": "execute_result"
    }
   ],
   "source": [
    "data = read_csv('snd-dataset.csv')\n",
    "\n",
    "data.head()"
   ]
  },
  {
   "cell_type": "code",
   "execution_count": 3,
   "metadata": {},
   "outputs": [
    {
     "data": {
      "text/plain": [
       "(1711, 11)"
      ]
     },
     "execution_count": 3,
     "metadata": {},
     "output_type": "execute_result"
    }
   ],
   "source": [
    "# 11 columnas de datos\n",
    "data.shape"
   ]
  },
  {
   "cell_type": "code",
   "execution_count": 4,
   "metadata": {},
   "outputs": [
    {
     "data": {
      "text/html": [
       "<div>\n",
       "<style scoped>\n",
       "    .dataframe tbody tr th:only-of-type {\n",
       "        vertical-align: middle;\n",
       "    }\n",
       "\n",
       "    .dataframe tbody tr th {\n",
       "        vertical-align: top;\n",
       "    }\n",
       "\n",
       "    .dataframe thead th {\n",
       "        text-align: right;\n",
       "    }\n",
       "</style>\n",
       "<table border=\"1\" class=\"dataframe\">\n",
       "  <thead>\n",
       "    <tr style=\"text-align: right;\">\n",
       "      <th></th>\n",
       "      <th>Duration</th>\n",
       "      <th>Loudness</th>\n",
       "      <th>LogAttackTime</th>\n",
       "      <th>Tempo</th>\n",
       "      <th>TemporalCentroid</th>\n",
       "      <th>Pitch</th>\n",
       "      <th>Key</th>\n",
       "    </tr>\n",
       "  </thead>\n",
       "  <tbody>\n",
       "    <tr>\n",
       "      <th>0</th>\n",
       "      <td>24.688000</td>\n",
       "      <td>-9.428771</td>\n",
       "      <td>0.643956</td>\n",
       "      <td>122</td>\n",
       "      <td>0.554729</td>\n",
       "      <td>150.475891</td>\n",
       "      <td>A minor</td>\n",
       "    </tr>\n",
       "    <tr>\n",
       "      <th>1</th>\n",
       "      <td>9.743673</td>\n",
       "      <td>-15.724195</td>\n",
       "      <td>-1.538928</td>\n",
       "      <td>99</td>\n",
       "      <td>0.515523</td>\n",
       "      <td>172.650284</td>\n",
       "      <td>A# major</td>\n",
       "    </tr>\n",
       "    <tr>\n",
       "      <th>2</th>\n",
       "      <td>2.965000</td>\n",
       "      <td>-41.118546</td>\n",
       "      <td>-0.108449</td>\n",
       "      <td>98</td>\n",
       "      <td>0.436209</td>\n",
       "      <td>1856.814087</td>\n",
       "      <td>C# minor</td>\n",
       "    </tr>\n",
       "    <tr>\n",
       "      <th>3</th>\n",
       "      <td>212.834106</td>\n",
       "      <td>-13.990514</td>\n",
       "      <td>1.079394</td>\n",
       "      <td>94</td>\n",
       "      <td>0.471911</td>\n",
       "      <td>233.854294</td>\n",
       "      <td>B major</td>\n",
       "    </tr>\n",
       "    <tr>\n",
       "      <th>4</th>\n",
       "      <td>1.985306</td>\n",
       "      <td>-12.687588</td>\n",
       "      <td>-0.707071</td>\n",
       "      <td>125</td>\n",
       "      <td>0.517171</td>\n",
       "      <td>269.756226</td>\n",
       "      <td>C major</td>\n",
       "    </tr>\n",
       "  </tbody>\n",
       "</table>\n",
       "</div>"
      ],
      "text/plain": [
       "     Duration   Loudness  LogAttackTime  Tempo  TemporalCentroid        Pitch  \\\n",
       "0   24.688000  -9.428771       0.643956    122          0.554729   150.475891   \n",
       "1    9.743673 -15.724195      -1.538928     99          0.515523   172.650284   \n",
       "2    2.965000 -41.118546      -0.108449     98          0.436209  1856.814087   \n",
       "3  212.834106 -13.990514       1.079394     94          0.471911   233.854294   \n",
       "4    1.985306 -12.687588      -0.707071    125          0.517171   269.756226   \n",
       "\n",
       "        Key  \n",
       "0   A minor  \n",
       "1  A# major  \n",
       "2  C# minor  \n",
       "3   B major  \n",
       "4   C major  "
      ]
     },
     "execution_count": 4,
     "metadata": {},
     "output_type": "execute_result"
    }
   ],
   "source": [
    "# Descarto columnas que no se van a usar por ahora\n",
    "# Tip: axis number (0 for rows and 1 for columns)\n",
    "data = data.drop(\"Tempo.confidence\", axis=1);\n",
    "data = data.drop(\"Pitch.confidence\", axis=1);\n",
    "data = data.drop(\"Key.confidence\", axis=1);\n",
    "data = data.drop(\"Loop\", axis=1);\n",
    "\n",
    "data.head()"
   ]
  },
  {
   "cell_type": "code",
   "execution_count": 5,
   "metadata": {},
   "outputs": [],
   "source": [
    "key_to_number_list = ['A minor', 'A major', 'A# minor', 'A# major', 'B minor', 'B major', 'C minor', 'C major', 'C# minor', 'C# major', 'D minor', 'D major', 'D# minor', 'D# major','E minor', 'E major', 'F minor', 'F major', 'F# minor', 'F# major', 'G minor', 'G major','G# minor', 'G# major']\n",
    "\n",
    "def keyToNumber(x_value):\n",
    "    return [i for i,x in enumerate(key_to_number_list) if x == x_value][0]"
   ]
  },
  {
   "cell_type": "code",
   "execution_count": 6,
   "metadata": {},
   "outputs": [
    {
     "data": {
      "text/plain": [
       "4"
      ]
     },
     "execution_count": 6,
     "metadata": {},
     "output_type": "execute_result"
    }
   ],
   "source": [
    "# test\n",
    "keyToNumber('B minor')"
   ]
  },
  {
   "cell_type": "code",
   "execution_count": 7,
   "metadata": {},
   "outputs": [],
   "source": [
    "# Mapeo de las tonalidades 'en texto' a categorias numéricas\n",
    "data['Key'] = data['Key'].map(keyToNumber)"
   ]
  },
  {
   "cell_type": "code",
   "execution_count": 8,
   "metadata": {},
   "outputs": [
    {
     "data": {
      "text/html": [
       "<div>\n",
       "<style scoped>\n",
       "    .dataframe tbody tr th:only-of-type {\n",
       "        vertical-align: middle;\n",
       "    }\n",
       "\n",
       "    .dataframe tbody tr th {\n",
       "        vertical-align: top;\n",
       "    }\n",
       "\n",
       "    .dataframe thead th {\n",
       "        text-align: right;\n",
       "    }\n",
       "</style>\n",
       "<table border=\"1\" class=\"dataframe\">\n",
       "  <thead>\n",
       "    <tr style=\"text-align: right;\">\n",
       "      <th></th>\n",
       "      <th>Duration</th>\n",
       "      <th>Loudness</th>\n",
       "      <th>LogAttackTime</th>\n",
       "      <th>Tempo</th>\n",
       "      <th>TemporalCentroid</th>\n",
       "      <th>Pitch</th>\n",
       "      <th>Key</th>\n",
       "    </tr>\n",
       "  </thead>\n",
       "  <tbody>\n",
       "    <tr>\n",
       "      <th>0</th>\n",
       "      <td>24.688000</td>\n",
       "      <td>-9.428771</td>\n",
       "      <td>0.643956</td>\n",
       "      <td>122</td>\n",
       "      <td>0.554729</td>\n",
       "      <td>150.475891</td>\n",
       "      <td>0</td>\n",
       "    </tr>\n",
       "    <tr>\n",
       "      <th>1</th>\n",
       "      <td>9.743673</td>\n",
       "      <td>-15.724195</td>\n",
       "      <td>-1.538928</td>\n",
       "      <td>99</td>\n",
       "      <td>0.515523</td>\n",
       "      <td>172.650284</td>\n",
       "      <td>3</td>\n",
       "    </tr>\n",
       "    <tr>\n",
       "      <th>2</th>\n",
       "      <td>2.965000</td>\n",
       "      <td>-41.118546</td>\n",
       "      <td>-0.108449</td>\n",
       "      <td>98</td>\n",
       "      <td>0.436209</td>\n",
       "      <td>1856.814087</td>\n",
       "      <td>8</td>\n",
       "    </tr>\n",
       "    <tr>\n",
       "      <th>3</th>\n",
       "      <td>212.834106</td>\n",
       "      <td>-13.990514</td>\n",
       "      <td>1.079394</td>\n",
       "      <td>94</td>\n",
       "      <td>0.471911</td>\n",
       "      <td>233.854294</td>\n",
       "      <td>5</td>\n",
       "    </tr>\n",
       "    <tr>\n",
       "      <th>4</th>\n",
       "      <td>1.985306</td>\n",
       "      <td>-12.687588</td>\n",
       "      <td>-0.707071</td>\n",
       "      <td>125</td>\n",
       "      <td>0.517171</td>\n",
       "      <td>269.756226</td>\n",
       "      <td>7</td>\n",
       "    </tr>\n",
       "  </tbody>\n",
       "</table>\n",
       "</div>"
      ],
      "text/plain": [
       "     Duration   Loudness  LogAttackTime  Tempo  TemporalCentroid        Pitch  \\\n",
       "0   24.688000  -9.428771       0.643956    122          0.554729   150.475891   \n",
       "1    9.743673 -15.724195      -1.538928     99          0.515523   172.650284   \n",
       "2    2.965000 -41.118546      -0.108449     98          0.436209  1856.814087   \n",
       "3  212.834106 -13.990514       1.079394     94          0.471911   233.854294   \n",
       "4    1.985306 -12.687588      -0.707071    125          0.517171   269.756226   \n",
       "\n",
       "   Key  \n",
       "0    0  \n",
       "1    3  \n",
       "2    8  \n",
       "3    5  \n",
       "4    7  "
      ]
     },
     "execution_count": 8,
     "metadata": {},
     "output_type": "execute_result"
    }
   ],
   "source": [
    "data.head()"
   ]
  },
  {
   "cell_type": "code",
   "execution_count": 9,
   "metadata": {},
   "outputs": [],
   "source": [
    "X = data\n",
    "#y = data[\"Key\"]"
   ]
  },
  {
   "cell_type": "code",
   "execution_count": 10,
   "metadata": {},
   "outputs": [
    {
     "data": {
      "text/plain": [
       "PCA(copy=True, iterated_power='auto', n_components=None, random_state=None,\n",
       "  svd_solver='auto', tol=0.0, whiten=False)"
      ]
     },
     "execution_count": 10,
     "metadata": {},
     "output_type": "execute_result"
    }
   ],
   "source": [
    "from sklearn.decomposition import PCA\n",
    "\n",
    "pca = PCA()\n",
    "pca.fit(X)"
   ]
  },
  {
   "cell_type": "code",
   "execution_count": 11,
   "metadata": {},
   "outputs": [
    {
     "data": {
      "text/plain": [
       "PCA(copy=True, iterated_power='auto', n_components=None, random_state=None,\n",
       "  svd_solver='auto', tol=0.0, whiten=False)"
      ]
     },
     "execution_count": 11,
     "metadata": {},
     "output_type": "execute_result"
    }
   ],
   "source": [
    "pca"
   ]
  },
  {
   "cell_type": "code",
   "execution_count": 12,
   "metadata": {},
   "outputs": [
    {
     "data": {
      "text/plain": [
       "7"
      ]
     },
     "execution_count": 12,
     "metadata": {},
     "output_type": "execute_result"
    }
   ],
   "source": [
    "pca.n_components_"
   ]
  },
  {
   "cell_type": "code",
   "execution_count": 13,
   "metadata": {},
   "outputs": [
    {
     "data": {
      "text/plain": [
       "array([0.92422762, 0.0732374 ])"
      ]
     },
     "execution_count": 13,
     "metadata": {},
     "output_type": "execute_result"
    }
   ],
   "source": [
    "# Nota: En sklearn PCA esta implementado como una descomposición SVD\n",
    "# Libro hands on ML, p.214 (chapter 8)\n",
    "pca = PCA(n_components = 2)\n",
    "X2D = pca.fit_transform(X)\n",
    "pca.explained_variance_ratio_"
   ]
  },
  {
   "cell_type": "markdown",
   "metadata": {},
   "source": [
    "# Conclusión parcial\n",
    "\n",
    "Hasta acá esta mal porque 'Key' es una variable categórica\n",
    "y no se normalizaron los datos\n"
   ]
  },
  {
   "cell_type": "markdown",
   "metadata": {},
   "source": [
    "# Rearmado\n",
    "\n",
    "## Escalado de los datos (normalización)\n",
    "Media = 0 y varianza = 1\n",
    "\n",
    "    http://scikit-learn.org/stable/modules/generated/sklearn.preprocessing.scale.html\n",
    "\n"
   ]
  },
  {
   "cell_type": "code",
   "execution_count": 14,
   "metadata": {},
   "outputs": [],
   "source": [
    "from sklearn.decomposition import PCA\n",
    "from sklearn.preprocessing import scale\n",
    "import numpy as np\n",
    "\n",
    "X = data.drop('Key', axis=1)\n",
    "X = data\n",
    "X_scaled = scale(X, axis=0, with_mean=True, with_std=True, copy=True)"
   ]
  },
  {
   "cell_type": "code",
   "execution_count": 15,
   "metadata": {},
   "outputs": [
    {
     "data": {
      "text/plain": [
       "(1711, 7)"
      ]
     },
     "execution_count": 15,
     "metadata": {},
     "output_type": "execute_result"
    }
   ],
   "source": [
    "import pandas as pd\n",
    "df = pd.DataFrame(X_scaled)\n",
    "\n",
    "df.shape"
   ]
  },
  {
   "cell_type": "code",
   "execution_count": 16,
   "metadata": {},
   "outputs": [
    {
     "data": {
      "text/html": [
       "<div>\n",
       "<style scoped>\n",
       "    .dataframe tbody tr th:only-of-type {\n",
       "        vertical-align: middle;\n",
       "    }\n",
       "\n",
       "    .dataframe tbody tr th {\n",
       "        vertical-align: top;\n",
       "    }\n",
       "\n",
       "    .dataframe thead th {\n",
       "        text-align: right;\n",
       "    }\n",
       "</style>\n",
       "<table border=\"1\" class=\"dataframe\">\n",
       "  <thead>\n",
       "    <tr style=\"text-align: right;\">\n",
       "      <th></th>\n",
       "      <th>0</th>\n",
       "      <th>1</th>\n",
       "      <th>2</th>\n",
       "      <th>3</th>\n",
       "      <th>4</th>\n",
       "      <th>5</th>\n",
       "      <th>6</th>\n",
       "    </tr>\n",
       "  </thead>\n",
       "  <tbody>\n",
       "    <tr>\n",
       "      <th>0</th>\n",
       "      <td>-0.863956</td>\n",
       "      <td>0.980326</td>\n",
       "      <td>-0.274263</td>\n",
       "      <td>0.228131</td>\n",
       "      <td>0.775030</td>\n",
       "      <td>-0.274007</td>\n",
       "      <td>-1.569148</td>\n",
       "    </tr>\n",
       "    <tr>\n",
       "      <th>1</th>\n",
       "      <td>-0.958866</td>\n",
       "      <td>0.083658</td>\n",
       "      <td>-2.273533</td>\n",
       "      <td>-0.611371</td>\n",
       "      <td>0.213123</td>\n",
       "      <td>-0.233947</td>\n",
       "      <td>-1.148529</td>\n",
       "    </tr>\n",
       "    <tr>\n",
       "      <th>2</th>\n",
       "      <td>-1.001917</td>\n",
       "      <td>-3.533299</td>\n",
       "      <td>-0.963379</td>\n",
       "      <td>-0.647871</td>\n",
       "      <td>-0.923631</td>\n",
       "      <td>2.808588</td>\n",
       "      <td>-0.447497</td>\n",
       "    </tr>\n",
       "    <tr>\n",
       "      <th>3</th>\n",
       "      <td>0.330945</td>\n",
       "      <td>0.330590</td>\n",
       "      <td>0.124548</td>\n",
       "      <td>-0.793872</td>\n",
       "      <td>-0.411946</td>\n",
       "      <td>-0.123379</td>\n",
       "      <td>-0.868116</td>\n",
       "    </tr>\n",
       "    <tr>\n",
       "      <th>4</th>\n",
       "      <td>-1.008139</td>\n",
       "      <td>0.516167</td>\n",
       "      <td>-1.511648</td>\n",
       "      <td>0.337631</td>\n",
       "      <td>0.236739</td>\n",
       "      <td>-0.058520</td>\n",
       "      <td>-0.587703</td>\n",
       "    </tr>\n",
       "  </tbody>\n",
       "</table>\n",
       "</div>"
      ],
      "text/plain": [
       "          0         1         2         3         4         5         6\n",
       "0 -0.863956  0.980326 -0.274263  0.228131  0.775030 -0.274007 -1.569148\n",
       "1 -0.958866  0.083658 -2.273533 -0.611371  0.213123 -0.233947 -1.148529\n",
       "2 -1.001917 -3.533299 -0.963379 -0.647871 -0.923631  2.808588 -0.447497\n",
       "3  0.330945  0.330590  0.124548 -0.793872 -0.411946 -0.123379 -0.868116\n",
       "4 -1.008139  0.516167 -1.511648  0.337631  0.236739 -0.058520 -0.587703"
      ]
     },
     "execution_count": 16,
     "metadata": {},
     "output_type": "execute_result"
    }
   ],
   "source": [
    "df.head()"
   ]
  },
  {
   "cell_type": "code",
   "execution_count": 17,
   "metadata": {},
   "outputs": [
    {
     "data": {
      "text/plain": [
       "PCA(copy=True, iterated_power='auto', n_components=None, random_state=None,\n",
       "  svd_solver='auto', tol=0.0, whiten=False)"
      ]
     },
     "execution_count": 17,
     "metadata": {},
     "output_type": "execute_result"
    }
   ],
   "source": [
    "# Nota: En sklearn PCA esta implementado como una descomposición SVD\n",
    "# Libro hands on ML, p.214 (chapter 8)\n",
    "\n",
    "pca = PCA()\n",
    "pca.fit(X_scaled)"
   ]
  },
  {
   "cell_type": "code",
   "execution_count": 18,
   "metadata": {},
   "outputs": [
    {
     "data": {
      "text/plain": [
       "7"
      ]
     },
     "execution_count": 18,
     "metadata": {},
     "output_type": "execute_result"
    }
   ],
   "source": [
    "# cantidad de componentes resultantes\n",
    "pca.n_components_"
   ]
  },
  {
   "cell_type": "code",
   "execution_count": 19,
   "metadata": {},
   "outputs": [
    {
     "data": {
      "text/plain": [
       "array([1.86825943, 1.12846829, 1.02609944, 0.9663424 , 0.80478083,\n",
       "       0.75220448, 0.4579387 ])"
      ]
     },
     "execution_count": 19,
     "metadata": {},
     "output_type": "execute_result"
    }
   ],
   "source": [
    "# estos son los autovalores (ordenados de mayor a menor)\n",
    "pca.explained_variance_"
   ]
  },
  {
   "cell_type": "code",
   "execution_count": 20,
   "metadata": {},
   "outputs": [
    {
     "data": {
      "text/plain": [
       "0.2667382165108527"
      ]
     },
     "execution_count": 20,
     "metadata": {},
     "output_type": "execute_result"
    }
   ],
   "source": [
    "avalores = pca.explained_variance_\n",
    "avalores[0]/sum(avalores)"
   ]
  },
  {
   "cell_type": "code",
   "execution_count": 21,
   "metadata": {},
   "outputs": [
    {
     "data": {
      "text/plain": [
       "array([0.26673822, 0.16111554, 0.14649996, 0.13796823, 0.1149015 ,\n",
       "       0.10739498, 0.06538158])"
      ]
     },
     "execution_count": 21,
     "metadata": {},
     "output_type": "execute_result"
    }
   ],
   "source": [
    "# y esto muestra la 'variabilidad' que aporta cada componente\n",
    "# (lo que representa en porcentaje)\n",
    "pca.explained_variance_ratio_"
   ]
  },
  {
   "cell_type": "code",
   "execution_count": 22,
   "metadata": {},
   "outputs": [
    {
     "data": {
      "text/plain": [
       "array([0.26673822, 0.42785375, 0.57435371, 0.71232195, 0.82722344,\n",
       "       0.93461842, 1.        ])"
      ]
     },
     "execution_count": 22,
     "metadata": {},
     "output_type": "execute_result"
    }
   ],
   "source": [
    "# Y el acumulado agregando dimensiones\n",
    "np.cumsum(pca.explained_variance_ratio_)"
   ]
  },
  {
   "cell_type": "markdown",
   "metadata": {},
   "source": [
    "# Conclusión\n",
    "\n",
    "*Recién con 4 dimensiones tengo algo interesante*\n",
    "Pero en realidad hacen falta 5\n",
    "\n"
   ]
  },
  {
   "cell_type": "markdown",
   "metadata": {},
   "source": [
    "### Ecuación del modelo\n",
    "\n"
   ]
  },
  {
   "cell_type": "code",
   "execution_count": 23,
   "metadata": {
    "scrolled": true
   },
   "outputs": [
    {
     "data": {
      "text/plain": [
       "array([ 0.56514967,  0.23616014,  0.60179984,  0.14406817,  0.41395542,\n",
       "       -0.24782713, -0.09559384])"
      ]
     },
     "execution_count": 23,
     "metadata": {},
     "output_type": "execute_result"
    }
   ],
   "source": [
    "# componente 0\n",
    "pca.components_.T[:,0]"
   ]
  },
  {
   "cell_type": "code",
   "execution_count": 24,
   "metadata": {},
   "outputs": [
    {
     "data": {
      "text/plain": [
       "array([ 0.07359558, -0.64160527,  0.14065051,  0.00767842,  0.39245231,\n",
       "        0.61941984, -0.15932702])"
      ]
     },
     "execution_count": 24,
     "metadata": {},
     "output_type": "execute_result"
    }
   ],
   "source": [
    "# componente 1 (autovector del autovalor 1)\n",
    "pca.components_.T[:,1]"
   ]
  }
 ],
 "metadata": {
  "kernelspec": {
   "display_name": "Python 3",
   "language": "python",
   "name": "python3"
  },
  "language_info": {
   "codemirror_mode": {
    "name": "ipython",
    "version": 3
   },
   "file_extension": ".py",
   "mimetype": "text/x-python",
   "name": "python",
   "nbconvert_exporter": "python",
   "pygments_lexer": "ipython3",
   "version": "3.7.0"
  }
 },
 "nbformat": 4,
 "nbformat_minor": 2
}
