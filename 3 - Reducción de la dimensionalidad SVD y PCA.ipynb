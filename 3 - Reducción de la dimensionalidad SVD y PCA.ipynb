{
 "cells": [
  {
   "cell_type": "markdown",
   "metadata": {},
   "source": [
    "# PCA"
   ]
  },
  {
   "cell_type": "code",
   "execution_count": 3,
   "metadata": {},
   "outputs": [],
   "source": [
    "from pandas import read_csv"
   ]
  },
  {
   "cell_type": "code",
   "execution_count": 4,
   "metadata": {},
   "outputs": [
    {
     "data": {
      "text/html": [
       "<div>\n",
       "<style scoped>\n",
       "    .dataframe tbody tr th:only-of-type {\n",
       "        vertical-align: middle;\n",
       "    }\n",
       "\n",
       "    .dataframe tbody tr th {\n",
       "        vertical-align: top;\n",
       "    }\n",
       "\n",
       "    .dataframe thead th {\n",
       "        text-align: right;\n",
       "    }\n",
       "</style>\n",
       "<table border=\"1\" class=\"dataframe\">\n",
       "  <thead>\n",
       "    <tr style=\"text-align: right;\">\n",
       "      <th></th>\n",
       "      <th>Duration</th>\n",
       "      <th>Loudness</th>\n",
       "      <th>LogAttackTime</th>\n",
       "      <th>Tempo</th>\n",
       "      <th>Tempo.confidence</th>\n",
       "      <th>TemporalCentroid</th>\n",
       "      <th>SingleEvent</th>\n",
       "      <th>Loop</th>\n",
       "      <th>Tonality</th>\n",
       "      <th>Tonality.confidence</th>\n",
       "      <th>DynamicRange</th>\n",
       "      <th>Note.midi</th>\n",
       "      <th>Note.frequency</th>\n",
       "      <th>Note.confidence</th>\n",
       "      <th>Genre</th>\n",
       "      <th>Mood</th>\n",
       "    </tr>\n",
       "  </thead>\n",
       "  <tbody>\n",
       "    <tr>\n",
       "      <th>0</th>\n",
       "      <td>24.218412</td>\n",
       "      <td>-16.581459</td>\n",
       "      <td>0.769376</td>\n",
       "      <td>95</td>\n",
       "      <td>0.133154</td>\n",
       "      <td>0.498596</td>\n",
       "      <td>False</td>\n",
       "      <td>False</td>\n",
       "      <td>G major</td>\n",
       "      <td>0.524679</td>\n",
       "      <td>9.689243</td>\n",
       "      <td>55</td>\n",
       "      <td>197.972900</td>\n",
       "      <td>0.000000</td>\n",
       "      <td>Genre B</td>\n",
       "      <td>Mood B</td>\n",
       "    </tr>\n",
       "    <tr>\n",
       "      <th>1</th>\n",
       "      <td>243.983673</td>\n",
       "      <td>-16.891335</td>\n",
       "      <td>1.618665</td>\n",
       "      <td>65</td>\n",
       "      <td>0.545527</td>\n",
       "      <td>0.479576</td>\n",
       "      <td>False</td>\n",
       "      <td>False</td>\n",
       "      <td>G major</td>\n",
       "      <td>0.785114</td>\n",
       "      <td>5.247044</td>\n",
       "      <td>40</td>\n",
       "      <td>85.456451</td>\n",
       "      <td>0.000000</td>\n",
       "      <td>Genre A</td>\n",
       "      <td>Mood A</td>\n",
       "    </tr>\n",
       "    <tr>\n",
       "      <th>2</th>\n",
       "      <td>15.281632</td>\n",
       "      <td>-21.658251</td>\n",
       "      <td>0.582658</td>\n",
       "      <td>63</td>\n",
       "      <td>0.996905</td>\n",
       "      <td>0.492315</td>\n",
       "      <td>True</td>\n",
       "      <td>True</td>\n",
       "      <td>C minor</td>\n",
       "      <td>0.698095</td>\n",
       "      <td>1.060242</td>\n",
       "      <td>50</td>\n",
       "      <td>151.972198</td>\n",
       "      <td>0.352345</td>\n",
       "      <td>Genre B</td>\n",
       "      <td>Mood B</td>\n",
       "    </tr>\n",
       "    <tr>\n",
       "      <th>3</th>\n",
       "      <td>2.000000</td>\n",
       "      <td>-10.525232</td>\n",
       "      <td>-1.590209</td>\n",
       "      <td>119</td>\n",
       "      <td>0.000000</td>\n",
       "      <td>0.468918</td>\n",
       "      <td>False</td>\n",
       "      <td>False</td>\n",
       "      <td>G# minor</td>\n",
       "      <td>0.646680</td>\n",
       "      <td>0.000000</td>\n",
       "      <td>41</td>\n",
       "      <td>91.402817</td>\n",
       "      <td>0.000000</td>\n",
       "      <td>Genre A</td>\n",
       "      <td>Mood A</td>\n",
       "    </tr>\n",
       "    <tr>\n",
       "      <th>4</th>\n",
       "      <td>1.454150</td>\n",
       "      <td>-28.335722</td>\n",
       "      <td>-0.492548</td>\n",
       "      <td>152</td>\n",
       "      <td>0.000000</td>\n",
       "      <td>0.502481</td>\n",
       "      <td>True</td>\n",
       "      <td>False</td>\n",
       "      <td>F# minor</td>\n",
       "      <td>0.408481</td>\n",
       "      <td>0.000000</td>\n",
       "      <td>107</td>\n",
       "      <td>3984.657227</td>\n",
       "      <td>0.695633</td>\n",
       "      <td>Genre A</td>\n",
       "      <td>Mood A</td>\n",
       "    </tr>\n",
       "  </tbody>\n",
       "</table>\n",
       "</div>"
      ],
      "text/plain": [
       "     Duration   Loudness  LogAttackTime  Tempo  Tempo.confidence  \\\n",
       "0   24.218412 -16.581459       0.769376     95          0.133154   \n",
       "1  243.983673 -16.891335       1.618665     65          0.545527   \n",
       "2   15.281632 -21.658251       0.582658     63          0.996905   \n",
       "3    2.000000 -10.525232      -1.590209    119          0.000000   \n",
       "4    1.454150 -28.335722      -0.492548    152          0.000000   \n",
       "\n",
       "   TemporalCentroid  SingleEvent   Loop  Tonality  Tonality.confidence  \\\n",
       "0          0.498596        False  False   G major             0.524679   \n",
       "1          0.479576        False  False   G major             0.785114   \n",
       "2          0.492315         True   True   C minor             0.698095   \n",
       "3          0.468918        False  False  G# minor             0.646680   \n",
       "4          0.502481         True  False  F# minor             0.408481   \n",
       "\n",
       "   DynamicRange  Note.midi  Note.frequency  Note.confidence    Genre    Mood  \n",
       "0      9.689243         55      197.972900         0.000000  Genre B  Mood B  \n",
       "1      5.247044         40       85.456451         0.000000  Genre A  Mood A  \n",
       "2      1.060242         50      151.972198         0.352345  Genre B  Mood B  \n",
       "3      0.000000         41       91.402817         0.000000  Genre A  Mood A  \n",
       "4      0.000000        107     3984.657227         0.695633  Genre A  Mood A  "
      ]
     },
     "execution_count": 4,
     "metadata": {},
     "output_type": "execute_result"
    }
   ],
   "source": [
    "data = read_csv('snd-dataset-from-plain-json.csv')\n",
    "\n",
    "data.head()"
   ]
  },
  {
   "cell_type": "code",
   "execution_count": 5,
   "metadata": {},
   "outputs": [
    {
     "data": {
      "text/plain": [
       "(1017, 16)"
      ]
     },
     "execution_count": 5,
     "metadata": {},
     "output_type": "execute_result"
    }
   ],
   "source": [
    "# 16 columnas de datos\n",
    "data.shape"
   ]
  },
  {
   "cell_type": "code",
   "execution_count": 6,
   "metadata": {},
   "outputs": [
    {
     "ename": "KeyError",
     "evalue": "\"['Pitch.confidence'] not found in axis\"",
     "output_type": "error",
     "traceback": [
      "\u001b[0;31m---------------------------------------------------------------------------\u001b[0m",
      "\u001b[0;31mKeyError\u001b[0m                                  Traceback (most recent call last)",
      "\u001b[0;32m<ipython-input-6-b5f3e792c24b>\u001b[0m in \u001b[0;36m<module>\u001b[0;34m()\u001b[0m\n\u001b[1;32m      2\u001b[0m \u001b[0;31m# Tip: axis number (0 for rows and 1 for columns)\u001b[0m\u001b[0;34m\u001b[0m\u001b[0;34m\u001b[0m\u001b[0m\n\u001b[1;32m      3\u001b[0m \u001b[0mdata\u001b[0m \u001b[0;34m=\u001b[0m \u001b[0mdata\u001b[0m\u001b[0;34m.\u001b[0m\u001b[0mdrop\u001b[0m\u001b[0;34m(\u001b[0m\u001b[0;34m\"Tempo.confidence\"\u001b[0m\u001b[0;34m,\u001b[0m \u001b[0maxis\u001b[0m\u001b[0;34m=\u001b[0m\u001b[0;36m1\u001b[0m\u001b[0;34m)\u001b[0m\u001b[0;34m;\u001b[0m\u001b[0;34m\u001b[0m\u001b[0m\n\u001b[0;32m----> 4\u001b[0;31m \u001b[0mdata\u001b[0m \u001b[0;34m=\u001b[0m \u001b[0mdata\u001b[0m\u001b[0;34m.\u001b[0m\u001b[0mdrop\u001b[0m\u001b[0;34m(\u001b[0m\u001b[0;34m\"Pitch.confidence\"\u001b[0m\u001b[0;34m,\u001b[0m \u001b[0maxis\u001b[0m\u001b[0;34m=\u001b[0m\u001b[0;36m1\u001b[0m\u001b[0;34m)\u001b[0m\u001b[0;34m;\u001b[0m\u001b[0;34m\u001b[0m\u001b[0m\n\u001b[0m\u001b[1;32m      5\u001b[0m \u001b[0mdata\u001b[0m \u001b[0;34m=\u001b[0m \u001b[0mdata\u001b[0m\u001b[0;34m.\u001b[0m\u001b[0mdrop\u001b[0m\u001b[0;34m(\u001b[0m\u001b[0;34m\"Key.confidence\"\u001b[0m\u001b[0;34m,\u001b[0m \u001b[0maxis\u001b[0m\u001b[0;34m=\u001b[0m\u001b[0;36m1\u001b[0m\u001b[0;34m)\u001b[0m\u001b[0;34m;\u001b[0m\u001b[0;34m\u001b[0m\u001b[0m\n\u001b[1;32m      6\u001b[0m \u001b[0mdata\u001b[0m \u001b[0;34m=\u001b[0m \u001b[0mdata\u001b[0m\u001b[0;34m.\u001b[0m\u001b[0mdrop\u001b[0m\u001b[0;34m(\u001b[0m\u001b[0;34m\"Loop\"\u001b[0m\u001b[0;34m,\u001b[0m \u001b[0maxis\u001b[0m\u001b[0;34m=\u001b[0m\u001b[0;36m1\u001b[0m\u001b[0;34m)\u001b[0m\u001b[0;34m;\u001b[0m\u001b[0;34m\u001b[0m\u001b[0m\n",
      "\u001b[0;32m/usr/local/lib/python3.7/site-packages/pandas/core/frame.py\u001b[0m in \u001b[0;36mdrop\u001b[0;34m(self, labels, axis, index, columns, level, inplace, errors)\u001b[0m\n\u001b[1;32m   3695\u001b[0m                                            \u001b[0mindex\u001b[0m\u001b[0;34m=\u001b[0m\u001b[0mindex\u001b[0m\u001b[0;34m,\u001b[0m \u001b[0mcolumns\u001b[0m\u001b[0;34m=\u001b[0m\u001b[0mcolumns\u001b[0m\u001b[0;34m,\u001b[0m\u001b[0;34m\u001b[0m\u001b[0m\n\u001b[1;32m   3696\u001b[0m                                            \u001b[0mlevel\u001b[0m\u001b[0;34m=\u001b[0m\u001b[0mlevel\u001b[0m\u001b[0;34m,\u001b[0m \u001b[0minplace\u001b[0m\u001b[0;34m=\u001b[0m\u001b[0minplace\u001b[0m\u001b[0;34m,\u001b[0m\u001b[0;34m\u001b[0m\u001b[0m\n\u001b[0;32m-> 3697\u001b[0;31m                                            errors=errors)\n\u001b[0m\u001b[1;32m   3698\u001b[0m \u001b[0;34m\u001b[0m\u001b[0m\n\u001b[1;32m   3699\u001b[0m     @rewrite_axis_style_signature('mapper', [('copy', True),\n",
      "\u001b[0;32m/usr/local/lib/python3.7/site-packages/pandas/core/generic.py\u001b[0m in \u001b[0;36mdrop\u001b[0;34m(self, labels, axis, index, columns, level, inplace, errors)\u001b[0m\n\u001b[1;32m   3109\u001b[0m         \u001b[0;32mfor\u001b[0m \u001b[0maxis\u001b[0m\u001b[0;34m,\u001b[0m \u001b[0mlabels\u001b[0m \u001b[0;32min\u001b[0m \u001b[0maxes\u001b[0m\u001b[0;34m.\u001b[0m\u001b[0mitems\u001b[0m\u001b[0;34m(\u001b[0m\u001b[0;34m)\u001b[0m\u001b[0;34m:\u001b[0m\u001b[0;34m\u001b[0m\u001b[0m\n\u001b[1;32m   3110\u001b[0m             \u001b[0;32mif\u001b[0m \u001b[0mlabels\u001b[0m \u001b[0;32mis\u001b[0m \u001b[0;32mnot\u001b[0m \u001b[0;32mNone\u001b[0m\u001b[0;34m:\u001b[0m\u001b[0;34m\u001b[0m\u001b[0m\n\u001b[0;32m-> 3111\u001b[0;31m                 \u001b[0mobj\u001b[0m \u001b[0;34m=\u001b[0m \u001b[0mobj\u001b[0m\u001b[0;34m.\u001b[0m\u001b[0m_drop_axis\u001b[0m\u001b[0;34m(\u001b[0m\u001b[0mlabels\u001b[0m\u001b[0;34m,\u001b[0m \u001b[0maxis\u001b[0m\u001b[0;34m,\u001b[0m \u001b[0mlevel\u001b[0m\u001b[0;34m=\u001b[0m\u001b[0mlevel\u001b[0m\u001b[0;34m,\u001b[0m \u001b[0merrors\u001b[0m\u001b[0;34m=\u001b[0m\u001b[0merrors\u001b[0m\u001b[0;34m)\u001b[0m\u001b[0;34m\u001b[0m\u001b[0m\n\u001b[0m\u001b[1;32m   3112\u001b[0m \u001b[0;34m\u001b[0m\u001b[0m\n\u001b[1;32m   3113\u001b[0m         \u001b[0;32mif\u001b[0m \u001b[0minplace\u001b[0m\u001b[0;34m:\u001b[0m\u001b[0;34m\u001b[0m\u001b[0m\n",
      "\u001b[0;32m/usr/local/lib/python3.7/site-packages/pandas/core/generic.py\u001b[0m in \u001b[0;36m_drop_axis\u001b[0;34m(self, labels, axis, level, errors)\u001b[0m\n\u001b[1;32m   3141\u001b[0m                 \u001b[0mnew_axis\u001b[0m \u001b[0;34m=\u001b[0m \u001b[0maxis\u001b[0m\u001b[0;34m.\u001b[0m\u001b[0mdrop\u001b[0m\u001b[0;34m(\u001b[0m\u001b[0mlabels\u001b[0m\u001b[0;34m,\u001b[0m \u001b[0mlevel\u001b[0m\u001b[0;34m=\u001b[0m\u001b[0mlevel\u001b[0m\u001b[0;34m,\u001b[0m \u001b[0merrors\u001b[0m\u001b[0;34m=\u001b[0m\u001b[0merrors\u001b[0m\u001b[0;34m)\u001b[0m\u001b[0;34m\u001b[0m\u001b[0m\n\u001b[1;32m   3142\u001b[0m             \u001b[0;32melse\u001b[0m\u001b[0;34m:\u001b[0m\u001b[0;34m\u001b[0m\u001b[0m\n\u001b[0;32m-> 3143\u001b[0;31m                 \u001b[0mnew_axis\u001b[0m \u001b[0;34m=\u001b[0m \u001b[0maxis\u001b[0m\u001b[0;34m.\u001b[0m\u001b[0mdrop\u001b[0m\u001b[0;34m(\u001b[0m\u001b[0mlabels\u001b[0m\u001b[0;34m,\u001b[0m \u001b[0merrors\u001b[0m\u001b[0;34m=\u001b[0m\u001b[0merrors\u001b[0m\u001b[0;34m)\u001b[0m\u001b[0;34m\u001b[0m\u001b[0m\n\u001b[0m\u001b[1;32m   3144\u001b[0m             \u001b[0mresult\u001b[0m \u001b[0;34m=\u001b[0m \u001b[0mself\u001b[0m\u001b[0;34m.\u001b[0m\u001b[0mreindex\u001b[0m\u001b[0;34m(\u001b[0m\u001b[0;34m**\u001b[0m\u001b[0;34m{\u001b[0m\u001b[0maxis_name\u001b[0m\u001b[0;34m:\u001b[0m \u001b[0mnew_axis\u001b[0m\u001b[0;34m}\u001b[0m\u001b[0;34m)\u001b[0m\u001b[0;34m\u001b[0m\u001b[0m\n\u001b[1;32m   3145\u001b[0m \u001b[0;34m\u001b[0m\u001b[0m\n",
      "\u001b[0;32m/usr/local/lib/python3.7/site-packages/pandas/core/indexes/base.py\u001b[0m in \u001b[0;36mdrop\u001b[0;34m(self, labels, errors)\u001b[0m\n\u001b[1;32m   4402\u001b[0m             \u001b[0;32mif\u001b[0m \u001b[0merrors\u001b[0m \u001b[0;34m!=\u001b[0m \u001b[0;34m'ignore'\u001b[0m\u001b[0;34m:\u001b[0m\u001b[0;34m\u001b[0m\u001b[0m\n\u001b[1;32m   4403\u001b[0m                 raise KeyError(\n\u001b[0;32m-> 4404\u001b[0;31m                     '{} not found in axis'.format(labels[mask]))\n\u001b[0m\u001b[1;32m   4405\u001b[0m             \u001b[0mindexer\u001b[0m \u001b[0;34m=\u001b[0m \u001b[0mindexer\u001b[0m\u001b[0;34m[\u001b[0m\u001b[0;34m~\u001b[0m\u001b[0mmask\u001b[0m\u001b[0;34m]\u001b[0m\u001b[0;34m\u001b[0m\u001b[0m\n\u001b[1;32m   4406\u001b[0m         \u001b[0;32mreturn\u001b[0m \u001b[0mself\u001b[0m\u001b[0;34m.\u001b[0m\u001b[0mdelete\u001b[0m\u001b[0;34m(\u001b[0m\u001b[0mindexer\u001b[0m\u001b[0;34m)\u001b[0m\u001b[0;34m\u001b[0m\u001b[0m\n",
      "\u001b[0;31mKeyError\u001b[0m: \"['Pitch.confidence'] not found in axis\""
     ]
    }
   ],
   "source": [
    "# Descarto columnas que no se van a usar por ahora\n",
    "# Tip: axis number (0 for rows and 1 for columns)\n",
    "data = data.drop(\"Tempo.confidence\", axis=1);\n",
    "data = data.drop(\"Pitch.confidence\", axis=1);\n",
    "data = data.drop(\"Key.confidence\", axis=1);\n",
    "data = data.drop(\"Loop\", axis=1);\n",
    "\n",
    "data.head()"
   ]
  },
  {
   "cell_type": "code",
   "execution_count": 131,
   "metadata": {},
   "outputs": [],
   "source": [
    "key_to_number_list = ['A minor', 'A major', 'A# minor', 'A# major', 'B minor', 'B major', 'C minor', 'C major', 'C# minor', 'C# major', 'D minor', 'D major', 'D# minor', 'D# major','E minor', 'E major', 'F minor', 'F major', 'F# minor', 'F# major', 'G minor', 'G major','G# minor', 'G# major']\n",
    "\n",
    "def keyToNumber(x_value):\n",
    "    return [i for i,x in enumerate(key_to_number_list) if x == x_value][0]"
   ]
  },
  {
   "cell_type": "code",
   "execution_count": 132,
   "metadata": {},
   "outputs": [
    {
     "data": {
      "text/plain": [
       "4"
      ]
     },
     "execution_count": 132,
     "metadata": {},
     "output_type": "execute_result"
    }
   ],
   "source": [
    "# test\n",
    "keyToNumber('B minor')"
   ]
  },
  {
   "cell_type": "code",
   "execution_count": 133,
   "metadata": {},
   "outputs": [],
   "source": [
    "# Mapeo de las tonalidades 'en texto' a categorias numéricas\n",
    "data['Key'] = data['Key'].map(keyToNumber)"
   ]
  },
  {
   "cell_type": "code",
   "execution_count": 134,
   "metadata": {},
   "outputs": [
    {
     "data": {
      "text/html": [
       "<div>\n",
       "<style scoped>\n",
       "    .dataframe tbody tr th:only-of-type {\n",
       "        vertical-align: middle;\n",
       "    }\n",
       "\n",
       "    .dataframe tbody tr th {\n",
       "        vertical-align: top;\n",
       "    }\n",
       "\n",
       "    .dataframe thead th {\n",
       "        text-align: right;\n",
       "    }\n",
       "</style>\n",
       "<table border=\"1\" class=\"dataframe\">\n",
       "  <thead>\n",
       "    <tr style=\"text-align: right;\">\n",
       "      <th></th>\n",
       "      <th>Duration</th>\n",
       "      <th>Loudness</th>\n",
       "      <th>LogAttackTime</th>\n",
       "      <th>Tempo</th>\n",
       "      <th>TemporalCentroid</th>\n",
       "      <th>Pitch</th>\n",
       "      <th>Key</th>\n",
       "    </tr>\n",
       "  </thead>\n",
       "  <tbody>\n",
       "    <tr>\n",
       "      <th>0</th>\n",
       "      <td>24.688000</td>\n",
       "      <td>-9.428771</td>\n",
       "      <td>0.643956</td>\n",
       "      <td>122</td>\n",
       "      <td>0.554729</td>\n",
       "      <td>150.475891</td>\n",
       "      <td>0</td>\n",
       "    </tr>\n",
       "    <tr>\n",
       "      <th>1</th>\n",
       "      <td>9.743673</td>\n",
       "      <td>-15.724195</td>\n",
       "      <td>-1.538928</td>\n",
       "      <td>99</td>\n",
       "      <td>0.515523</td>\n",
       "      <td>172.650284</td>\n",
       "      <td>3</td>\n",
       "    </tr>\n",
       "    <tr>\n",
       "      <th>2</th>\n",
       "      <td>2.965000</td>\n",
       "      <td>-41.118546</td>\n",
       "      <td>-0.108449</td>\n",
       "      <td>98</td>\n",
       "      <td>0.436209</td>\n",
       "      <td>1856.814087</td>\n",
       "      <td>8</td>\n",
       "    </tr>\n",
       "    <tr>\n",
       "      <th>3</th>\n",
       "      <td>212.834106</td>\n",
       "      <td>-13.990514</td>\n",
       "      <td>1.079394</td>\n",
       "      <td>94</td>\n",
       "      <td>0.471911</td>\n",
       "      <td>233.854294</td>\n",
       "      <td>5</td>\n",
       "    </tr>\n",
       "    <tr>\n",
       "      <th>4</th>\n",
       "      <td>1.985306</td>\n",
       "      <td>-12.687588</td>\n",
       "      <td>-0.707071</td>\n",
       "      <td>125</td>\n",
       "      <td>0.517171</td>\n",
       "      <td>269.756226</td>\n",
       "      <td>7</td>\n",
       "    </tr>\n",
       "  </tbody>\n",
       "</table>\n",
       "</div>"
      ],
      "text/plain": [
       "     Duration   Loudness  LogAttackTime  Tempo  TemporalCentroid        Pitch  \\\n",
       "0   24.688000  -9.428771       0.643956    122          0.554729   150.475891   \n",
       "1    9.743673 -15.724195      -1.538928     99          0.515523   172.650284   \n",
       "2    2.965000 -41.118546      -0.108449     98          0.436209  1856.814087   \n",
       "3  212.834106 -13.990514       1.079394     94          0.471911   233.854294   \n",
       "4    1.985306 -12.687588      -0.707071    125          0.517171   269.756226   \n",
       "\n",
       "   Key  \n",
       "0    0  \n",
       "1    3  \n",
       "2    8  \n",
       "3    5  \n",
       "4    7  "
      ]
     },
     "execution_count": 134,
     "metadata": {},
     "output_type": "execute_result"
    }
   ],
   "source": [
    "data.head()"
   ]
  },
  {
   "cell_type": "code",
   "execution_count": 172,
   "metadata": {},
   "outputs": [],
   "source": [
    "X = data\n",
    "#y = data[\"Key\"]"
   ]
  },
  {
   "cell_type": "code",
   "execution_count": 151,
   "metadata": {},
   "outputs": [
    {
     "data": {
      "text/plain": [
       "PCA(copy=True, iterated_power='auto', n_components=None, random_state=None,\n",
       "  svd_solver='auto', tol=0.0, whiten=False)"
      ]
     },
     "execution_count": 151,
     "metadata": {},
     "output_type": "execute_result"
    }
   ],
   "source": [
    "from sklearn.decomposition import PCA\n",
    "\n",
    "pca = PCA()\n",
    "pca.fit(X)"
   ]
  },
  {
   "cell_type": "code",
   "execution_count": 152,
   "metadata": {},
   "outputs": [
    {
     "data": {
      "text/plain": [
       "PCA(copy=True, iterated_power='auto', n_components=None, random_state=None,\n",
       "  svd_solver='auto', tol=0.0, whiten=False)"
      ]
     },
     "execution_count": 152,
     "metadata": {},
     "output_type": "execute_result"
    }
   ],
   "source": [
    "pca"
   ]
  },
  {
   "cell_type": "code",
   "execution_count": 153,
   "metadata": {},
   "outputs": [
    {
     "data": {
      "text/plain": [
       "6"
      ]
     },
     "execution_count": 153,
     "metadata": {},
     "output_type": "execute_result"
    }
   ],
   "source": [
    "pca.n_components_"
   ]
  },
  {
   "cell_type": "code",
   "execution_count": 154,
   "metadata": {},
   "outputs": [
    {
     "data": {
      "text/plain": [
       "array([0.92436908, 0.07324825])"
      ]
     },
     "execution_count": 154,
     "metadata": {},
     "output_type": "execute_result"
    }
   ],
   "source": [
    "# Nota: En sklearn PCA esta implementado como una descomposición SVD\n",
    "# Libro hands on ML, p.214 (chapter 8)\n",
    "pca = PCA(n_components = 2)\n",
    "X2D = pca.fit_transform(X)\n",
    "pca.explained_variance_ratio_"
   ]
  },
  {
   "cell_type": "markdown",
   "metadata": {},
   "source": [
    "# Conclusión parcial\n",
    "\n",
    "Hasta acá esta mal porque 'Key' es una variable categórica\n",
    "y no se normalizaron los datos\n"
   ]
  },
  {
   "cell_type": "markdown",
   "metadata": {},
   "source": [
    "# Rearmado\n",
    "\n",
    "## Escalado de los datos (normalización)\n",
    "Media = 0 y varianza = 1\n",
    "\n",
    "    http://scikit-learn.org/stable/modules/generated/sklearn.preprocessing.scale.html\n",
    "\n"
   ]
  },
  {
   "cell_type": "code",
   "execution_count": 173,
   "metadata": {},
   "outputs": [],
   "source": [
    "from sklearn.decomposition import PCA\n",
    "from sklearn.preprocessing import scale\n",
    "import numpy as np\n",
    "\n",
    "X = data.drop('Key', axis=1)\n",
    "X = data\n",
    "X_scaled = scale(X, axis=0, with_mean=True, with_std=True, copy=True)"
   ]
  },
  {
   "cell_type": "code",
   "execution_count": 174,
   "metadata": {},
   "outputs": [
    {
     "data": {
      "text/plain": [
       "(1711, 7)"
      ]
     },
     "execution_count": 174,
     "metadata": {},
     "output_type": "execute_result"
    }
   ],
   "source": [
    "import pandas as pd\n",
    "df = pd.DataFrame(X_scaled)\n",
    "\n",
    "df.shape"
   ]
  },
  {
   "cell_type": "code",
   "execution_count": 175,
   "metadata": {},
   "outputs": [
    {
     "data": {
      "text/html": [
       "<div>\n",
       "<style scoped>\n",
       "    .dataframe tbody tr th:only-of-type {\n",
       "        vertical-align: middle;\n",
       "    }\n",
       "\n",
       "    .dataframe tbody tr th {\n",
       "        vertical-align: top;\n",
       "    }\n",
       "\n",
       "    .dataframe thead th {\n",
       "        text-align: right;\n",
       "    }\n",
       "</style>\n",
       "<table border=\"1\" class=\"dataframe\">\n",
       "  <thead>\n",
       "    <tr style=\"text-align: right;\">\n",
       "      <th></th>\n",
       "      <th>0</th>\n",
       "      <th>1</th>\n",
       "      <th>2</th>\n",
       "      <th>3</th>\n",
       "      <th>4</th>\n",
       "      <th>5</th>\n",
       "      <th>6</th>\n",
       "    </tr>\n",
       "  </thead>\n",
       "  <tbody>\n",
       "    <tr>\n",
       "      <th>0</th>\n",
       "      <td>-0.863956</td>\n",
       "      <td>0.980326</td>\n",
       "      <td>-0.274263</td>\n",
       "      <td>0.228131</td>\n",
       "      <td>0.775030</td>\n",
       "      <td>-0.274007</td>\n",
       "      <td>-1.569148</td>\n",
       "    </tr>\n",
       "    <tr>\n",
       "      <th>1</th>\n",
       "      <td>-0.958866</td>\n",
       "      <td>0.083658</td>\n",
       "      <td>-2.273533</td>\n",
       "      <td>-0.611371</td>\n",
       "      <td>0.213123</td>\n",
       "      <td>-0.233947</td>\n",
       "      <td>-1.148529</td>\n",
       "    </tr>\n",
       "    <tr>\n",
       "      <th>2</th>\n",
       "      <td>-1.001917</td>\n",
       "      <td>-3.533299</td>\n",
       "      <td>-0.963379</td>\n",
       "      <td>-0.647871</td>\n",
       "      <td>-0.923631</td>\n",
       "      <td>2.808588</td>\n",
       "      <td>-0.447497</td>\n",
       "    </tr>\n",
       "    <tr>\n",
       "      <th>3</th>\n",
       "      <td>0.330945</td>\n",
       "      <td>0.330590</td>\n",
       "      <td>0.124548</td>\n",
       "      <td>-0.793872</td>\n",
       "      <td>-0.411946</td>\n",
       "      <td>-0.123379</td>\n",
       "      <td>-0.868116</td>\n",
       "    </tr>\n",
       "    <tr>\n",
       "      <th>4</th>\n",
       "      <td>-1.008139</td>\n",
       "      <td>0.516167</td>\n",
       "      <td>-1.511648</td>\n",
       "      <td>0.337631</td>\n",
       "      <td>0.236739</td>\n",
       "      <td>-0.058520</td>\n",
       "      <td>-0.587703</td>\n",
       "    </tr>\n",
       "  </tbody>\n",
       "</table>\n",
       "</div>"
      ],
      "text/plain": [
       "          0         1         2         3         4         5         6\n",
       "0 -0.863956  0.980326 -0.274263  0.228131  0.775030 -0.274007 -1.569148\n",
       "1 -0.958866  0.083658 -2.273533 -0.611371  0.213123 -0.233947 -1.148529\n",
       "2 -1.001917 -3.533299 -0.963379 -0.647871 -0.923631  2.808588 -0.447497\n",
       "3  0.330945  0.330590  0.124548 -0.793872 -0.411946 -0.123379 -0.868116\n",
       "4 -1.008139  0.516167 -1.511648  0.337631  0.236739 -0.058520 -0.587703"
      ]
     },
     "execution_count": 175,
     "metadata": {},
     "output_type": "execute_result"
    }
   ],
   "source": [
    "df.head()"
   ]
  },
  {
   "cell_type": "code",
   "execution_count": 176,
   "metadata": {},
   "outputs": [
    {
     "data": {
      "text/plain": [
       "PCA(copy=True, iterated_power='auto', n_components=None, random_state=None,\n",
       "  svd_solver='auto', tol=0.0, whiten=False)"
      ]
     },
     "execution_count": 176,
     "metadata": {},
     "output_type": "execute_result"
    }
   ],
   "source": [
    "# Nota: En sklearn PCA esta implementado como una descomposición SVD\n",
    "# Libro hands on ML, p.214 (chapter 8)\n",
    "\n",
    "pca = PCA()\n",
    "pca.fit(X_scaled)"
   ]
  },
  {
   "cell_type": "code",
   "execution_count": 177,
   "metadata": {},
   "outputs": [
    {
     "data": {
      "text/plain": [
       "7"
      ]
     },
     "execution_count": 177,
     "metadata": {},
     "output_type": "execute_result"
    }
   ],
   "source": [
    "# cantidad de componentes resultantes\n",
    "pca.n_components_"
   ]
  },
  {
   "cell_type": "code",
   "execution_count": 178,
   "metadata": {},
   "outputs": [
    {
     "data": {
      "text/plain": [
       "array([1.86825943, 1.12846829, 1.02609944, 0.9663424 , 0.80478083,\n",
       "       0.75220448, 0.4579387 ])"
      ]
     },
     "execution_count": 178,
     "metadata": {},
     "output_type": "execute_result"
    }
   ],
   "source": [
    "# estos son los autovalores (ordenados de mayor a menor)\n",
    "pca.explained_variance_"
   ]
  },
  {
   "cell_type": "code",
   "execution_count": 179,
   "metadata": {},
   "outputs": [
    {
     "data": {
      "text/plain": [
       "0.2667382165108527"
      ]
     },
     "execution_count": 179,
     "metadata": {},
     "output_type": "execute_result"
    }
   ],
   "source": [
    "avalores = pca.explained_variance_\n",
    "avalores[0]/sum(avalores)"
   ]
  },
  {
   "cell_type": "code",
   "execution_count": 180,
   "metadata": {},
   "outputs": [
    {
     "data": {
      "text/plain": [
       "array([0.26673822, 0.16111554, 0.14649996, 0.13796823, 0.1149015 ,\n",
       "       0.10739498, 0.06538158])"
      ]
     },
     "execution_count": 180,
     "metadata": {},
     "output_type": "execute_result"
    }
   ],
   "source": [
    "# y esto muestra la 'variabilidad' que aporta cada componente\n",
    "# (lo que representa en porcentaje)\n",
    "pca.explained_variance_ratio_"
   ]
  },
  {
   "cell_type": "code",
   "execution_count": 181,
   "metadata": {},
   "outputs": [
    {
     "data": {
      "text/plain": [
       "array([0.26673822, 0.42785375, 0.57435371, 0.71232195, 0.82722344,\n",
       "       0.93461842, 1.        ])"
      ]
     },
     "execution_count": 181,
     "metadata": {},
     "output_type": "execute_result"
    }
   ],
   "source": [
    "# Y el acumulado agregando dimensiones\n",
    "np.cumsum(pca.explained_variance_ratio_)"
   ]
  },
  {
   "cell_type": "markdown",
   "metadata": {},
   "source": [
    "# Conclusión\n",
    "\n",
    "*Recién con 4 dimensiones tengo algo interesante*\n",
    "Pero en realidad hacen falta 5\n",
    "\n"
   ]
  },
  {
   "cell_type": "markdown",
   "metadata": {},
   "source": [
    "### Ecuación del modelo\n",
    "\n"
   ]
  },
  {
   "cell_type": "code",
   "execution_count": 164,
   "metadata": {
    "scrolled": true
   },
   "outputs": [
    {
     "data": {
      "text/plain": [
       "array([ 0.5669665 ,  0.24186696,  0.60294714,  0.14727468,  0.41608323,\n",
       "       -0.24837278])"
      ]
     },
     "execution_count": 164,
     "metadata": {},
     "output_type": "execute_result"
    }
   ],
   "source": [
    "# componente 0\n",
    "pca.components_.T[:,0]"
   ]
  },
  {
   "cell_type": "code",
   "execution_count": 165,
   "metadata": {},
   "outputs": [
    {
     "data": {
      "text/plain": [
       "array([ 0.08071659, -0.62663587,  0.14574249,  0.04287633,  0.40996551,\n",
       "        0.64004793])"
      ]
     },
     "execution_count": 165,
     "metadata": {},
     "output_type": "execute_result"
    }
   ],
   "source": [
    "# componente 1 (autovector del autovalor 1)\n",
    "pca.components_.T[:,1]"
   ]
  },
  {
   "cell_type": "markdown",
   "metadata": {},
   "source": [
    "# Conclusión parcial\n",
    "\n",
    "\n",
    "---\n",
    "\n",
    "**Siguiente:** [4 - Conclusión final](4%20-%20Conclusión%20final.ipynb)"
   ]
  },
  {
   "cell_type": "code",
   "execution_count": null,
   "metadata": {},
   "outputs": [],
   "source": []
  }
 ],
 "metadata": {
  "kernelspec": {
   "display_name": "Python 3",
   "language": "python",
   "name": "python3"
  },
  "language_info": {
   "codemirror_mode": {
    "name": "ipython",
    "version": 3
   },
   "file_extension": ".py",
   "mimetype": "text/x-python",
   "name": "python",
   "nbconvert_exporter": "python",
   "pygments_lexer": "ipython3",
   "version": "3.7.0"
  }
 },
 "nbformat": 4,
 "nbformat_minor": 2
}
