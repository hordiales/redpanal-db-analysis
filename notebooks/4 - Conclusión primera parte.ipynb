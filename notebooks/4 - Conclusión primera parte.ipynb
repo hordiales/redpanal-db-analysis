{
 "cells": [
  {
   "cell_type": "markdown",
   "metadata": {},
   "source": [
    "# Conclusión"
   ]
  },
  {
   "cell_type": "markdown",
   "metadata": {},
   "source": [
    "Se pudo describir el dataset de más de 1000 instancias de archivos de sonido, visualizarlo de diferentes maneras y se obtuvo información interesante sobre la composición del mismo.\n",
    "\n",
    "A pesar de que la idea era original era concentrarse en sonidos de menor duración, más sencillos de caracterizar con features únicos o promedio, se concentró el análisis en las instancias en general, debido a que los que predominaban eran aquellos en el orden de entre los 60 segundos y los 5 minutos. En algunos casos, como en la regresión logística, se hizo una limpieza del dataset, eliminando aquellas instancias catalogadas como 'eventos únicos' y conservando solo aquellas instancias con una alta de confianza en la predicción del feature, obteniendo mejores resultados en el indicador de R ajustado (o 'R cuadrado').\n",
    "\n",
    "Ante esto, se propone realizar una segmentación de los archivos originales, diviendolos en partes más chicas de 3 o segundos como máximo y generando un vector de features por cada descriptor (Tempo, Loudness, etc).\n",
    "\n",
    "Se logró reducir las dimensionalidad del dataset y realizar visualizaciones de las proyecciones en diferentes cantidad de dimensiones y con diferentes porcentajes de representatividad. Se concluyó que con 3 dimensiones se pueden representar aproximadamente el 60% de los datos, mientras que para lograr un porcentaje mayor al 90% se necesitan 6, es decir el doble. Sobre esto, resta comparar los resultados de estas proyecciones matemáticas con técnicas basadas en probabilidad (métodos estocásticos) como t-sne."
   ]
  },
  {
   "cell_type": "markdown",
   "metadata": {},
   "source": [
    "**Siguiente:** [5 - Reducción de la dimensionalidad con t-sne](5%20-%20Reducción%20de%20la%20dimensionalidad%20con%20t-sne.ipynb)"
   ]
  }
 ],
 "metadata": {
  "kernelspec": {
   "display_name": "Python 3",
   "language": "python",
   "name": "python3"
  },
  "language_info": {
   "codemirror_mode": {
    "name": "ipython",
    "version": 3
   },
   "file_extension": ".py",
   "mimetype": "text/x-python",
   "name": "python",
   "nbconvert_exporter": "python",
   "pygments_lexer": "ipython3",
   "version": "3.6.6"
  }
 },
 "nbformat": 4,
 "nbformat_minor": 2
}
