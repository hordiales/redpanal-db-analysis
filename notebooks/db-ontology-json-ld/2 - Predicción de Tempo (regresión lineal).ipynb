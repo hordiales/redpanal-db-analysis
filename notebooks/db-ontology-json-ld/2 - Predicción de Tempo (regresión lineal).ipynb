{
 "cells": [
  {
   "cell_type": "markdown",
   "metadata": {},
   "source": [
    "# Predecir tonalidad en función el resto de las variables\n",
    "\n",
    "(dataset con ontología json-ld)"
   ]
  },
  {
   "cell_type": "code",
   "execution_count": 1,
   "metadata": {},
   "outputs": [],
   "source": [
    "import pandas as pd\n",
    "import numpy as np\n",
    "\n",
    "from sklearn import linear_model\n",
    "import statsmodels.api as sm\n",
    "\n",
    "np.set_printoptions(precision=2)"
   ]
  },
  {
   "cell_type": "markdown",
   "metadata": {},
   "source": [
    "## Dataset con ontología json-ld"
   ]
  },
  {
   "cell_type": "code",
   "execution_count": 19,
   "metadata": {},
   "outputs": [
    {
     "data": {
      "text/html": [
       "<div>\n",
       "<style scoped>\n",
       "    .dataframe tbody tr th:only-of-type {\n",
       "        vertical-align: middle;\n",
       "    }\n",
       "\n",
       "    .dataframe tbody tr th {\n",
       "        vertical-align: top;\n",
       "    }\n",
       "\n",
       "    .dataframe thead th {\n",
       "        text-align: right;\n",
       "    }\n",
       "</style>\n",
       "<table border=\"1\" class=\"dataframe\">\n",
       "  <thead>\n",
       "    <tr style=\"text-align: right;\">\n",
       "      <th></th>\n",
       "      <th>Duration</th>\n",
       "      <th>Loudness</th>\n",
       "      <th>LogAttackTime</th>\n",
       "      <th>Tempo</th>\n",
       "      <th>TemporalCentroid</th>\n",
       "      <th>Pitch</th>\n",
       "      <th>Key</th>\n",
       "    </tr>\n",
       "  </thead>\n",
       "  <tbody>\n",
       "    <tr>\n",
       "      <th>0</th>\n",
       "      <td>24.688000</td>\n",
       "      <td>-9.428771</td>\n",
       "      <td>0.643956</td>\n",
       "      <td>122</td>\n",
       "      <td>0.554729</td>\n",
       "      <td>150.475891</td>\n",
       "      <td>A minor</td>\n",
       "    </tr>\n",
       "    <tr>\n",
       "      <th>1</th>\n",
       "      <td>9.743673</td>\n",
       "      <td>-15.724195</td>\n",
       "      <td>-1.538928</td>\n",
       "      <td>99</td>\n",
       "      <td>0.515523</td>\n",
       "      <td>172.650284</td>\n",
       "      <td>A# major</td>\n",
       "    </tr>\n",
       "    <tr>\n",
       "      <th>2</th>\n",
       "      <td>2.965000</td>\n",
       "      <td>-41.118546</td>\n",
       "      <td>-0.108449</td>\n",
       "      <td>98</td>\n",
       "      <td>0.436209</td>\n",
       "      <td>1856.814087</td>\n",
       "      <td>C# minor</td>\n",
       "    </tr>\n",
       "    <tr>\n",
       "      <th>3</th>\n",
       "      <td>212.834106</td>\n",
       "      <td>-13.990514</td>\n",
       "      <td>1.079394</td>\n",
       "      <td>94</td>\n",
       "      <td>0.471911</td>\n",
       "      <td>233.854294</td>\n",
       "      <td>B major</td>\n",
       "    </tr>\n",
       "    <tr>\n",
       "      <th>4</th>\n",
       "      <td>1.985306</td>\n",
       "      <td>-12.687588</td>\n",
       "      <td>-0.707071</td>\n",
       "      <td>125</td>\n",
       "      <td>0.517171</td>\n",
       "      <td>269.756226</td>\n",
       "      <td>C major</td>\n",
       "    </tr>\n",
       "  </tbody>\n",
       "</table>\n",
       "</div>"
      ],
      "text/plain": [
       "     Duration   Loudness  LogAttackTime  Tempo  TemporalCentroid        Pitch  \\\n",
       "0   24.688000  -9.428771       0.643956    122          0.554729   150.475891   \n",
       "1    9.743673 -15.724195      -1.538928     99          0.515523   172.650284   \n",
       "2    2.965000 -41.118546      -0.108449     98          0.436209  1856.814087   \n",
       "3  212.834106 -13.990514       1.079394     94          0.471911   233.854294   \n",
       "4    1.985306 -12.687588      -0.707071    125          0.517171   269.756226   \n",
       "\n",
       "        Key  \n",
       "0   A minor  \n",
       "1  A# major  \n",
       "2  C# minor  \n",
       "3   B major  \n",
       "4   C major  "
      ]
     },
     "execution_count": 19,
     "metadata": {},
     "output_type": "execute_result"
    }
   ],
   "source": [
    "data = pd.read_csv('snd-dataset-from-json-ld.csv') # Dataset original\n",
    "#data = pd.read_csv('snd-segmented-dataset-from-json-ld.csv')\n",
    "\n",
    "# Descarto columnas que no se van a usar por ahora\n",
    "# Tip: axis number (0 for rows and 1 for columns)\n",
    "data = data.drop(\"Tempo.confidence\", axis=1);\n",
    "data = data.drop(\"Pitch.confidence\", axis=1);\n",
    "data = data.drop(\"Key.confidence\", axis=1);\n",
    "data = data.drop(\"Loop\", axis=1);\n",
    "\n",
    "data.head()"
   ]
  },
  {
   "cell_type": "code",
   "execution_count": 20,
   "metadata": {},
   "outputs": [
    {
     "data": {
      "text/plain": [
       "(1711, 7)"
      ]
     },
     "execution_count": 20,
     "metadata": {},
     "output_type": "execute_result"
    }
   ],
   "source": [
    "data.shape"
   ]
  },
  {
   "cell_type": "markdown",
   "metadata": {},
   "source": [
    "## Correlación entre variables"
   ]
  },
  {
   "cell_type": "code",
   "execution_count": 21,
   "metadata": {},
   "outputs": [
    {
     "data": {
      "text/html": [
       "<div>\n",
       "<style scoped>\n",
       "    .dataframe tbody tr th:only-of-type {\n",
       "        vertical-align: middle;\n",
       "    }\n",
       "\n",
       "    .dataframe tbody tr th {\n",
       "        vertical-align: top;\n",
       "    }\n",
       "\n",
       "    .dataframe thead th {\n",
       "        text-align: right;\n",
       "    }\n",
       "</style>\n",
       "<table border=\"1\" class=\"dataframe\">\n",
       "  <thead>\n",
       "    <tr style=\"text-align: right;\">\n",
       "      <th></th>\n",
       "      <th>Duration</th>\n",
       "      <th>Loudness</th>\n",
       "      <th>LogAttackTime</th>\n",
       "      <th>Tempo</th>\n",
       "      <th>TemporalCentroid</th>\n",
       "      <th>Pitch</th>\n",
       "    </tr>\n",
       "  </thead>\n",
       "  <tbody>\n",
       "    <tr>\n",
       "      <th>Duration</th>\n",
       "      <td>1.000000</td>\n",
       "      <td>0.125187</td>\n",
       "      <td>0.520356</td>\n",
       "      <td>0.096701</td>\n",
       "      <td>0.229799</td>\n",
       "      <td>-0.133888</td>\n",
       "    </tr>\n",
       "    <tr>\n",
       "      <th>Loudness</th>\n",
       "      <td>0.125187</td>\n",
       "      <td>1.000000</td>\n",
       "      <td>0.120566</td>\n",
       "      <td>0.055650</td>\n",
       "      <td>0.024330</td>\n",
       "      <td>-0.184486</td>\n",
       "    </tr>\n",
       "    <tr>\n",
       "      <th>LogAttackTime</th>\n",
       "      <td>0.520356</td>\n",
       "      <td>0.120566</td>\n",
       "      <td>1.000000</td>\n",
       "      <td>0.068165</td>\n",
       "      <td>0.352514</td>\n",
       "      <td>-0.149583</td>\n",
       "    </tr>\n",
       "    <tr>\n",
       "      <th>Tempo</th>\n",
       "      <td>0.096701</td>\n",
       "      <td>0.055650</td>\n",
       "      <td>0.068165</td>\n",
       "      <td>1.000000</td>\n",
       "      <td>0.044982</td>\n",
       "      <td>0.006298</td>\n",
       "    </tr>\n",
       "    <tr>\n",
       "      <th>TemporalCentroid</th>\n",
       "      <td>0.229799</td>\n",
       "      <td>0.024330</td>\n",
       "      <td>0.352514</td>\n",
       "      <td>0.044982</td>\n",
       "      <td>1.000000</td>\n",
       "      <td>-0.008670</td>\n",
       "    </tr>\n",
       "    <tr>\n",
       "      <th>Pitch</th>\n",
       "      <td>-0.133888</td>\n",
       "      <td>-0.184486</td>\n",
       "      <td>-0.149583</td>\n",
       "      <td>0.006298</td>\n",
       "      <td>-0.008670</td>\n",
       "      <td>1.000000</td>\n",
       "    </tr>\n",
       "  </tbody>\n",
       "</table>\n",
       "</div>"
      ],
      "text/plain": [
       "                  Duration  Loudness  LogAttackTime     Tempo  \\\n",
       "Duration          1.000000  0.125187       0.520356  0.096701   \n",
       "Loudness          0.125187  1.000000       0.120566  0.055650   \n",
       "LogAttackTime     0.520356  0.120566       1.000000  0.068165   \n",
       "Tempo             0.096701  0.055650       0.068165  1.000000   \n",
       "TemporalCentroid  0.229799  0.024330       0.352514  0.044982   \n",
       "Pitch            -0.133888 -0.184486      -0.149583  0.006298   \n",
       "\n",
       "                  TemporalCentroid     Pitch  \n",
       "Duration                  0.229799 -0.133888  \n",
       "Loudness                  0.024330 -0.184486  \n",
       "LogAttackTime             0.352514 -0.149583  \n",
       "Tempo                     0.044982  0.006298  \n",
       "TemporalCentroid          1.000000 -0.008670  \n",
       "Pitch                    -0.008670  1.000000  "
      ]
     },
     "execution_count": 21,
     "metadata": {},
     "output_type": "execute_result"
    }
   ],
   "source": [
    "data.corr(method='pearson', min_periods=1) # pearson -> método estándar"
   ]
  },
  {
   "cell_type": "markdown",
   "metadata": {},
   "source": [
    "Se observa muy baja correlación excepto algo apenas aceptable entre Duration y LogAttackTime"
   ]
  },
  {
   "cell_type": "markdown",
   "metadata": {},
   "source": [
    "# Intento de predicción del Tempo a partir de la duración"
   ]
  },
  {
   "cell_type": "code",
   "execution_count": 22,
   "metadata": {},
   "outputs": [],
   "source": [
    "Duration = np.asarray( data.loc[:, 'Duration' ] )# body ---> variable dependiente --> x \n",
    "Tempo = np.asarray( data.loc[:, 'Tempo' ] ) # heart weight ---> variable independiente --> y (lo que predigo)"
   ]
  },
  {
   "cell_type": "code",
   "execution_count": 23,
   "metadata": {},
   "outputs": [
    {
     "data": {
      "text/html": [
       "<table class=\"simpletable\">\n",
       "<caption>OLS Regression Results</caption>\n",
       "<tr>\n",
       "  <th>Dep. Variable:</th>            <td>y</td>        <th>  R-squared:         </th> <td>   0.009</td> \n",
       "</tr>\n",
       "<tr>\n",
       "  <th>Model:</th>                   <td>OLS</td>       <th>  Adj. R-squared:    </th> <td>   0.009</td> \n",
       "</tr>\n",
       "<tr>\n",
       "  <th>Method:</th>             <td>Least Squares</td>  <th>  F-statistic:       </th> <td>   16.13</td> \n",
       "</tr>\n",
       "<tr>\n",
       "  <th>Date:</th>             <td>Thu, 21 Feb 2019</td> <th>  Prob (F-statistic):</th> <td>6.16e-05</td> \n",
       "</tr>\n",
       "<tr>\n",
       "  <th>Time:</th>                 <td>12:55:59</td>     <th>  Log-Likelihood:    </th> <td> -8083.9</td> \n",
       "</tr>\n",
       "<tr>\n",
       "  <th>No. Observations:</th>      <td>  1711</td>      <th>  AIC:               </th> <td>1.617e+04</td>\n",
       "</tr>\n",
       "<tr>\n",
       "  <th>Df Residuals:</th>          <td>  1709</td>      <th>  BIC:               </th> <td>1.618e+04</td>\n",
       "</tr>\n",
       "<tr>\n",
       "  <th>Df Model:</th>              <td>     1</td>      <th>                     </th>     <td> </td>    \n",
       "</tr>\n",
       "<tr>\n",
       "  <th>Covariance Type:</th>      <td>nonrobust</td>    <th>                     </th>     <td> </td>    \n",
       "</tr>\n",
       "</table>\n",
       "<table class=\"simpletable\">\n",
       "<tr>\n",
       "    <td></td>       <th>coef</th>     <th>std err</th>      <th>t</th>      <th>P>|t|</th>  <th>[0.025</th>    <th>0.975]</th>  \n",
       "</tr>\n",
       "<tr>\n",
       "  <th>const</th> <td>  113.0455</td> <td>    0.943</td> <td>  119.933</td> <td> 0.000</td> <td>  111.197</td> <td>  114.894</td>\n",
       "</tr>\n",
       "<tr>\n",
       "  <th>x1</th>    <td>    0.0168</td> <td>    0.004</td> <td>    4.016</td> <td> 0.000</td> <td>    0.009</td> <td>    0.025</td>\n",
       "</tr>\n",
       "</table>\n",
       "<table class=\"simpletable\">\n",
       "<tr>\n",
       "  <th>Omnibus:</th>       <td>32.962</td> <th>  Durbin-Watson:     </th> <td>   1.938</td>\n",
       "</tr>\n",
       "<tr>\n",
       "  <th>Prob(Omnibus):</th> <td> 0.000</td> <th>  Jarque-Bera (JB):  </th> <td>  65.947</td>\n",
       "</tr>\n",
       "<tr>\n",
       "  <th>Skew:</th>          <td>-0.014</td> <th>  Prob(JB):          </th> <td>4.78e-15</td>\n",
       "</tr>\n",
       "<tr>\n",
       "  <th>Kurtosis:</th>      <td> 3.961</td> <th>  Cond. No.          </th> <td>    322.</td>\n",
       "</tr>\n",
       "</table><br/><br/>Warnings:<br/>[1] Standard Errors assume that the covariance matrix of the errors is correctly specified."
      ],
      "text/plain": [
       "<class 'statsmodels.iolib.summary.Summary'>\n",
       "\"\"\"\n",
       "                            OLS Regression Results                            \n",
       "==============================================================================\n",
       "Dep. Variable:                      y   R-squared:                       0.009\n",
       "Model:                            OLS   Adj. R-squared:                  0.009\n",
       "Method:                 Least Squares   F-statistic:                     16.13\n",
       "Date:                Thu, 21 Feb 2019   Prob (F-statistic):           6.16e-05\n",
       "Time:                        12:55:59   Log-Likelihood:                -8083.9\n",
       "No. Observations:                1711   AIC:                         1.617e+04\n",
       "Df Residuals:                    1709   BIC:                         1.618e+04\n",
       "Df Model:                           1                                         \n",
       "Covariance Type:            nonrobust                                         \n",
       "==============================================================================\n",
       "                 coef    std err          t      P>|t|      [0.025      0.975]\n",
       "------------------------------------------------------------------------------\n",
       "const        113.0455      0.943    119.933      0.000     111.197     114.894\n",
       "x1             0.0168      0.004      4.016      0.000       0.009       0.025\n",
       "==============================================================================\n",
       "Omnibus:                       32.962   Durbin-Watson:                   1.938\n",
       "Prob(Omnibus):                  0.000   Jarque-Bera (JB):               65.947\n",
       "Skew:                          -0.014   Prob(JB):                     4.78e-15\n",
       "Kurtosis:                       3.961   Cond. No.                         322.\n",
       "==============================================================================\n",
       "\n",
       "Warnings:\n",
       "[1] Standard Errors assume that the covariance matrix of the errors is correctly specified.\n",
       "\"\"\""
      ]
     },
     "execution_count": 23,
     "metadata": {},
     "output_type": "execute_result"
    }
   ],
   "source": [
    "# esto es un ajuste lineal (cuadrados mínimos)\n",
    "linearRegresionTest = sm.add_constant( Duration )\n",
    "model = sm.OLS(Tempo, linearRegresionTest).fit()\n",
    "\n",
    "model.summary()"
   ]
  },
  {
   "cell_type": "code",
   "execution_count": 24,
   "metadata": {},
   "outputs": [
    {
     "name": "stdout",
     "output_type": "stream",
     "text": [
      "El R cuadrado es muy bajo!\n"
     ]
    }
   ],
   "source": [
    "AdjRSquared = 0.009\n",
    "AdjRSquared\n",
    "\n",
    "print(\"El R cuadrado es muy bajo!\")"
   ]
  },
  {
   "cell_type": "markdown",
   "metadata": {},
   "source": [
    "## Regresión múltiple (varias variables)"
   ]
  },
  {
   "cell_type": "code",
   "execution_count": 25,
   "metadata": {},
   "outputs": [],
   "source": [
    "# https://stackoverflow.com/questions/11479064/multiple-linear-regression-in-python\n",
    "def reg_multiple(y, x):\n",
    "    ones = np.ones(len(x[0]))\n",
    "    X = sm.add_constant(np.column_stack((x[0], ones)))\n",
    "    for ele in x[1:]:\n",
    "        X = sm.add_constant(np.column_stack((ele, X)))\n",
    "    results = sm.OLS(y, X).fit()\n",
    "    return results"
   ]
  },
  {
   "cell_type": "markdown",
   "metadata": {},
   "source": [
    "## Predicción de Tempo a partir de Duration y TemporalCentroid"
   ]
  },
  {
   "cell_type": "code",
   "execution_count": 26,
   "metadata": {},
   "outputs": [
    {
     "data": {
      "text/html": [
       "<table class=\"simpletable\">\n",
       "<caption>OLS Regression Results</caption>\n",
       "<tr>\n",
       "  <th>Dep. Variable:</th>            <td>y</td>        <th>  R-squared:         </th> <td>   0.010</td> \n",
       "</tr>\n",
       "<tr>\n",
       "  <th>Model:</th>                   <td>OLS</td>       <th>  Adj. R-squared:    </th> <td>   0.009</td> \n",
       "</tr>\n",
       "<tr>\n",
       "  <th>Method:</th>             <td>Least Squares</td>  <th>  F-statistic:       </th> <td>   8.537</td> \n",
       "</tr>\n",
       "<tr>\n",
       "  <th>Date:</th>             <td>Thu, 21 Feb 2019</td> <th>  Prob (F-statistic):</th> <td>0.000204</td> \n",
       "</tr>\n",
       "<tr>\n",
       "  <th>Time:</th>                 <td>12:56:00</td>     <th>  Log-Likelihood:    </th> <td> -8083.5</td> \n",
       "</tr>\n",
       "<tr>\n",
       "  <th>No. Observations:</th>      <td>  1711</td>      <th>  AIC:               </th> <td>1.617e+04</td>\n",
       "</tr>\n",
       "<tr>\n",
       "  <th>Df Residuals:</th>          <td>  1708</td>      <th>  BIC:               </th> <td>1.619e+04</td>\n",
       "</tr>\n",
       "<tr>\n",
       "  <th>Df Model:</th>              <td>     2</td>      <th>                     </th>     <td> </td>    \n",
       "</tr>\n",
       "<tr>\n",
       "  <th>Covariance Type:</th>      <td>nonrobust</td>    <th>                     </th>     <td> </td>    \n",
       "</tr>\n",
       "</table>\n",
       "<table class=\"simpletable\">\n",
       "<tr>\n",
       "    <td></td>       <th>coef</th>     <th>std err</th>      <th>t</th>      <th>P>|t|</th>  <th>[0.025</th>    <th>0.975]</th>  \n",
       "</tr>\n",
       "<tr>\n",
       "  <th>x1</th>    <td>    9.4355</td> <td>    9.714</td> <td>    0.971</td> <td> 0.332</td> <td>   -9.617</td> <td>   28.488</td>\n",
       "</tr>\n",
       "<tr>\n",
       "  <th>x2</th>    <td>    0.0159</td> <td>    0.004</td> <td>    3.686</td> <td> 0.000</td> <td>    0.007</td> <td>    0.024</td>\n",
       "</tr>\n",
       "<tr>\n",
       "  <th>const</th> <td>  108.4761</td> <td>    4.798</td> <td>   22.609</td> <td> 0.000</td> <td>   99.066</td> <td>  117.886</td>\n",
       "</tr>\n",
       "</table>\n",
       "<table class=\"simpletable\">\n",
       "<tr>\n",
       "  <th>Omnibus:</th>       <td>31.469</td> <th>  Durbin-Watson:     </th> <td>   1.940</td>\n",
       "</tr>\n",
       "<tr>\n",
       "  <th>Prob(Omnibus):</th> <td> 0.000</td> <th>  Jarque-Bera (JB):  </th> <td>  61.797</td>\n",
       "</tr>\n",
       "<tr>\n",
       "  <th>Skew:</th>          <td>-0.006</td> <th>  Prob(JB):          </th> <td>3.81e-14</td>\n",
       "</tr>\n",
       "<tr>\n",
       "  <th>Kurtosis:</th>      <td> 3.931</td> <th>  Cond. No.          </th> <td>3.68e+03</td>\n",
       "</tr>\n",
       "</table><br/><br/>Warnings:<br/>[1] Standard Errors assume that the covariance matrix of the errors is correctly specified.<br/>[2] The condition number is large, 3.68e+03. This might indicate that there are<br/>strong multicollinearity or other numerical problems."
      ],
      "text/plain": [
       "<class 'statsmodels.iolib.summary.Summary'>\n",
       "\"\"\"\n",
       "                            OLS Regression Results                            \n",
       "==============================================================================\n",
       "Dep. Variable:                      y   R-squared:                       0.010\n",
       "Model:                            OLS   Adj. R-squared:                  0.009\n",
       "Method:                 Least Squares   F-statistic:                     8.537\n",
       "Date:                Thu, 21 Feb 2019   Prob (F-statistic):           0.000204\n",
       "Time:                        12:56:00   Log-Likelihood:                -8083.5\n",
       "No. Observations:                1711   AIC:                         1.617e+04\n",
       "Df Residuals:                    1708   BIC:                         1.619e+04\n",
       "Df Model:                           2                                         \n",
       "Covariance Type:            nonrobust                                         \n",
       "==============================================================================\n",
       "                 coef    std err          t      P>|t|      [0.025      0.975]\n",
       "------------------------------------------------------------------------------\n",
       "x1             9.4355      9.714      0.971      0.332      -9.617      28.488\n",
       "x2             0.0159      0.004      3.686      0.000       0.007       0.024\n",
       "const        108.4761      4.798     22.609      0.000      99.066     117.886\n",
       "==============================================================================\n",
       "Omnibus:                       31.469   Durbin-Watson:                   1.940\n",
       "Prob(Omnibus):                  0.000   Jarque-Bera (JB):               61.797\n",
       "Skew:                          -0.006   Prob(JB):                     3.81e-14\n",
       "Kurtosis:                       3.931   Cond. No.                     3.68e+03\n",
       "==============================================================================\n",
       "\n",
       "Warnings:\n",
       "[1] Standard Errors assume that the covariance matrix of the errors is correctly specified.\n",
       "[2] The condition number is large, 3.68e+03. This might indicate that there are\n",
       "strong multicollinearity or other numerical problems.\n",
       "\"\"\""
      ]
     },
     "execution_count": 26,
     "metadata": {},
     "output_type": "execute_result"
    }
   ],
   "source": [
    "TemporalCentroid = np.asarray( data.loc[:, 'TemporalCentroid' ] )\n",
    "Pitch = np.asarray( data.loc[:, 'Pitch' ] )\n",
    "\n",
    "y = Tempo\n",
    "\n",
    "X = np.array( [ Duration, TemporalCentroid])\n",
    "#X = np.array( [ Pitch, TemporalCentroid])\n",
    "\n",
    "reg_multiple(y, X).summary()"
   ]
  },
  {
   "cell_type": "code",
   "execution_count": 27,
   "metadata": {},
   "outputs": [
    {
     "name": "stdout",
     "output_type": "stream",
     "text": [
      "El R cuadrado es muy bajo!\n"
     ]
    }
   ],
   "source": [
    "print(\"El R cuadrado es muy bajo!\")"
   ]
  }
 ],
 "metadata": {
  "kernelspec": {
   "display_name": "RedPanalDBAnalysis",
   "language": "python",
   "name": "redpanaldbanalysis"
  },
  "language_info": {
   "codemirror_mode": {
    "name": "ipython",
    "version": 3
   },
   "file_extension": ".py",
   "mimetype": "text/x-python",
   "name": "python",
   "nbconvert_exporter": "python",
   "pygments_lexer": "ipython3",
   "version": "3.6.7"
  }
 },
 "nbformat": 4,
 "nbformat_minor": 2
}
