{
 "cells": [
  {
   "cell_type": "markdown",
   "metadata": {},
   "source": [
    "# Predecir tonalidad en función el resto de las variables\n",
    "\n",
    "(dataset SEGMENTADO/PARTICIONADO con ontología json-ld)"
   ]
  },
  {
   "cell_type": "code",
   "execution_count": 3,
   "metadata": {},
   "outputs": [],
   "source": [
    "import pandas as pd\n",
    "import numpy as np\n",
    "\n",
    "from sklearn import linear_model\n",
    "import statsmodels.api as sm\n",
    "\n",
    "np.set_printoptions(precision=2)"
   ]
  },
  {
   "cell_type": "markdown",
   "metadata": {},
   "source": [
    "## Dataset con ontología json-ld"
   ]
  },
  {
   "cell_type": "code",
   "execution_count": 6,
   "metadata": {},
   "outputs": [
    {
     "data": {
      "text/html": [
       "<div>\n",
       "<style scoped>\n",
       "    .dataframe tbody tr th:only-of-type {\n",
       "        vertical-align: middle;\n",
       "    }\n",
       "\n",
       "    .dataframe tbody tr th {\n",
       "        vertical-align: top;\n",
       "    }\n",
       "\n",
       "    .dataframe thead th {\n",
       "        text-align: right;\n",
       "    }\n",
       "</style>\n",
       "<table border=\"1\" class=\"dataframe\">\n",
       "  <thead>\n",
       "    <tr style=\"text-align: right;\">\n",
       "      <th></th>\n",
       "      <th>Duration</th>\n",
       "      <th>Loudness</th>\n",
       "      <th>LogAttackTime</th>\n",
       "      <th>Tempo</th>\n",
       "      <th>TemporalCentroid</th>\n",
       "      <th>Pitch</th>\n",
       "      <th>Key</th>\n",
       "    </tr>\n",
       "  </thead>\n",
       "  <tbody>\n",
       "    <tr>\n",
       "      <th>0</th>\n",
       "      <td>5.0</td>\n",
       "      <td>-15.304321</td>\n",
       "      <td>0.662552</td>\n",
       "      <td>103</td>\n",
       "      <td>0.572003</td>\n",
       "      <td>384.759399</td>\n",
       "      <td>G major</td>\n",
       "    </tr>\n",
       "    <tr>\n",
       "      <th>1</th>\n",
       "      <td>5.0</td>\n",
       "      <td>-19.805204</td>\n",
       "      <td>-0.860892</td>\n",
       "      <td>99</td>\n",
       "      <td>0.539102</td>\n",
       "      <td>67.521309</td>\n",
       "      <td>A major</td>\n",
       "    </tr>\n",
       "    <tr>\n",
       "      <th>2</th>\n",
       "      <td>5.0</td>\n",
       "      <td>-24.740988</td>\n",
       "      <td>-1.379621</td>\n",
       "      <td>116</td>\n",
       "      <td>0.431652</td>\n",
       "      <td>427.887085</td>\n",
       "      <td>F# major</td>\n",
       "    </tr>\n",
       "    <tr>\n",
       "      <th>3</th>\n",
       "      <td>5.0</td>\n",
       "      <td>-10.838598</td>\n",
       "      <td>0.478131</td>\n",
       "      <td>146</td>\n",
       "      <td>0.497631</td>\n",
       "      <td>263.397491</td>\n",
       "      <td>C major</td>\n",
       "    </tr>\n",
       "    <tr>\n",
       "      <th>4</th>\n",
       "      <td>5.0</td>\n",
       "      <td>-35.420860</td>\n",
       "      <td>0.560322</td>\n",
       "      <td>98</td>\n",
       "      <td>0.498890</td>\n",
       "      <td>126.194229</td>\n",
       "      <td>A# minor</td>\n",
       "    </tr>\n",
       "  </tbody>\n",
       "</table>\n",
       "</div>"
      ],
      "text/plain": [
       "   Duration   Loudness  LogAttackTime  Tempo  TemporalCentroid       Pitch  \\\n",
       "0       5.0 -15.304321       0.662552    103          0.572003  384.759399   \n",
       "1       5.0 -19.805204      -0.860892     99          0.539102   67.521309   \n",
       "2       5.0 -24.740988      -1.379621    116          0.431652  427.887085   \n",
       "3       5.0 -10.838598       0.478131    146          0.497631  263.397491   \n",
       "4       5.0 -35.420860       0.560322     98          0.498890  126.194229   \n",
       "\n",
       "        Key  \n",
       "0   G major  \n",
       "1   A major  \n",
       "2  F# major  \n",
       "3   C major  \n",
       "4  A# minor  "
      ]
     },
     "execution_count": 6,
     "metadata": {},
     "output_type": "execute_result"
    }
   ],
   "source": [
    "#data = pd.read_csv('snd-dataset-from-json-ld.csv')\n",
    "data = pd.read_csv('snd-segmented-dataset-from-json-ld.csv')\n",
    "\n",
    "# Descarto columnas que no se van a usar por ahora\n",
    "# Tip: axis number (0 for rows and 1 for columns)\n",
    "data = data.drop(\"Tempo.confidence\", axis=1);\n",
    "data = data.drop(\"Pitch.confidence\", axis=1);\n",
    "data = data.drop(\"Key.confidence\", axis=1);\n",
    "data = data.drop(\"Loop\", axis=1);\n",
    "\n",
    "data.head()"
   ]
  },
  {
   "cell_type": "code",
   "execution_count": 7,
   "metadata": {},
   "outputs": [
    {
     "data": {
      "text/plain": [
       "(56083, 7)"
      ]
     },
     "execution_count": 7,
     "metadata": {},
     "output_type": "execute_result"
    }
   ],
   "source": [
    "data.shape"
   ]
  },
  {
   "cell_type": "markdown",
   "metadata": {},
   "source": [
    "## Correlación entre variables"
   ]
  },
  {
   "cell_type": "code",
   "execution_count": 8,
   "metadata": {},
   "outputs": [
    {
     "data": {
      "text/html": [
       "<div>\n",
       "<style scoped>\n",
       "    .dataframe tbody tr th:only-of-type {\n",
       "        vertical-align: middle;\n",
       "    }\n",
       "\n",
       "    .dataframe tbody tr th {\n",
       "        vertical-align: top;\n",
       "    }\n",
       "\n",
       "    .dataframe thead th {\n",
       "        text-align: right;\n",
       "    }\n",
       "</style>\n",
       "<table border=\"1\" class=\"dataframe\">\n",
       "  <thead>\n",
       "    <tr style=\"text-align: right;\">\n",
       "      <th></th>\n",
       "      <th>Duration</th>\n",
       "      <th>Loudness</th>\n",
       "      <th>LogAttackTime</th>\n",
       "      <th>Tempo</th>\n",
       "      <th>TemporalCentroid</th>\n",
       "      <th>Pitch</th>\n",
       "    </tr>\n",
       "  </thead>\n",
       "  <tbody>\n",
       "    <tr>\n",
       "      <th>Duration</th>\n",
       "      <td>1.000000</td>\n",
       "      <td>0.007493</td>\n",
       "      <td>0.058741</td>\n",
       "      <td>0.019578</td>\n",
       "      <td>0.038726</td>\n",
       "      <td>-0.030447</td>\n",
       "    </tr>\n",
       "    <tr>\n",
       "      <th>Loudness</th>\n",
       "      <td>0.007493</td>\n",
       "      <td>1.000000</td>\n",
       "      <td>-0.081416</td>\n",
       "      <td>0.046157</td>\n",
       "      <td>0.057607</td>\n",
       "      <td>-0.077931</td>\n",
       "    </tr>\n",
       "    <tr>\n",
       "      <th>LogAttackTime</th>\n",
       "      <td>0.058741</td>\n",
       "      <td>-0.081416</td>\n",
       "      <td>1.000000</td>\n",
       "      <td>-0.001458</td>\n",
       "      <td>0.290779</td>\n",
       "      <td>-0.025086</td>\n",
       "    </tr>\n",
       "    <tr>\n",
       "      <th>Tempo</th>\n",
       "      <td>0.019578</td>\n",
       "      <td>0.046157</td>\n",
       "      <td>-0.001458</td>\n",
       "      <td>1.000000</td>\n",
       "      <td>-0.017688</td>\n",
       "      <td>-0.005988</td>\n",
       "    </tr>\n",
       "    <tr>\n",
       "      <th>TemporalCentroid</th>\n",
       "      <td>0.038726</td>\n",
       "      <td>0.057607</td>\n",
       "      <td>0.290779</td>\n",
       "      <td>-0.017688</td>\n",
       "      <td>1.000000</td>\n",
       "      <td>0.006011</td>\n",
       "    </tr>\n",
       "    <tr>\n",
       "      <th>Pitch</th>\n",
       "      <td>-0.030447</td>\n",
       "      <td>-0.077931</td>\n",
       "      <td>-0.025086</td>\n",
       "      <td>-0.005988</td>\n",
       "      <td>0.006011</td>\n",
       "      <td>1.000000</td>\n",
       "    </tr>\n",
       "  </tbody>\n",
       "</table>\n",
       "</div>"
      ],
      "text/plain": [
       "                  Duration  Loudness  LogAttackTime     Tempo  \\\n",
       "Duration          1.000000  0.007493       0.058741  0.019578   \n",
       "Loudness          0.007493  1.000000      -0.081416  0.046157   \n",
       "LogAttackTime     0.058741 -0.081416       1.000000 -0.001458   \n",
       "Tempo             0.019578  0.046157      -0.001458  1.000000   \n",
       "TemporalCentroid  0.038726  0.057607       0.290779 -0.017688   \n",
       "Pitch            -0.030447 -0.077931      -0.025086 -0.005988   \n",
       "\n",
       "                  TemporalCentroid     Pitch  \n",
       "Duration                  0.038726 -0.030447  \n",
       "Loudness                  0.057607 -0.077931  \n",
       "LogAttackTime             0.290779 -0.025086  \n",
       "Tempo                    -0.017688 -0.005988  \n",
       "TemporalCentroid          1.000000  0.006011  \n",
       "Pitch                     0.006011  1.000000  "
      ]
     },
     "execution_count": 8,
     "metadata": {},
     "output_type": "execute_result"
    }
   ],
   "source": [
    "data.corr(method='pearson', min_periods=1) # pearson -> método estándar"
   ]
  },
  {
   "cell_type": "markdown",
   "metadata": {},
   "source": [
    "Se observa muy baja correlación excepto algo apenas aceptable entre Duration y LogAttackTime"
   ]
  },
  {
   "cell_type": "markdown",
   "metadata": {},
   "source": [
    "## Escalado de los datos"
   ]
  },
  {
   "cell_type": "code",
   "execution_count": 9,
   "metadata": {},
   "outputs": [],
   "source": [
    "from sklearn.preprocessing import scale\n",
    "\n",
    "X = data.drop('Key', axis=1)"
   ]
  },
  {
   "cell_type": "code",
   "execution_count": 10,
   "metadata": {},
   "outputs": [
    {
     "name": "stderr",
     "output_type": "stream",
     "text": [
      "/home/hordia/VirtualEnvs/RedPanalDBAnalysis/lib/python3.6/site-packages/ipykernel_launcher.py:1: DataConversionWarning: Data with input dtype int64, float64 were all converted to float64 by the scale function.\n",
      "  \"\"\"Entry point for launching an IPython kernel.\n"
     ]
    },
    {
     "data": {
      "text/html": [
       "<div>\n",
       "<style scoped>\n",
       "    .dataframe tbody tr th:only-of-type {\n",
       "        vertical-align: middle;\n",
       "    }\n",
       "\n",
       "    .dataframe tbody tr th {\n",
       "        vertical-align: top;\n",
       "    }\n",
       "\n",
       "    .dataframe thead th {\n",
       "        text-align: right;\n",
       "    }\n",
       "</style>\n",
       "<table border=\"1\" class=\"dataframe\">\n",
       "  <thead>\n",
       "    <tr style=\"text-align: right;\">\n",
       "      <th></th>\n",
       "      <th>0</th>\n",
       "      <th>1</th>\n",
       "      <th>2</th>\n",
       "      <th>3</th>\n",
       "      <th>4</th>\n",
       "      <th>5</th>\n",
       "    </tr>\n",
       "  </thead>\n",
       "  <tbody>\n",
       "    <tr>\n",
       "      <th>0</th>\n",
       "      <td>1.000000</td>\n",
       "      <td>0.007493</td>\n",
       "      <td>0.058741</td>\n",
       "      <td>0.019578</td>\n",
       "      <td>0.038726</td>\n",
       "      <td>-0.030447</td>\n",
       "    </tr>\n",
       "    <tr>\n",
       "      <th>1</th>\n",
       "      <td>0.007493</td>\n",
       "      <td>1.000000</td>\n",
       "      <td>-0.081416</td>\n",
       "      <td>0.046157</td>\n",
       "      <td>0.057607</td>\n",
       "      <td>-0.077931</td>\n",
       "    </tr>\n",
       "    <tr>\n",
       "      <th>2</th>\n",
       "      <td>0.058741</td>\n",
       "      <td>-0.081416</td>\n",
       "      <td>1.000000</td>\n",
       "      <td>-0.001458</td>\n",
       "      <td>0.290779</td>\n",
       "      <td>-0.025086</td>\n",
       "    </tr>\n",
       "    <tr>\n",
       "      <th>3</th>\n",
       "      <td>0.019578</td>\n",
       "      <td>0.046157</td>\n",
       "      <td>-0.001458</td>\n",
       "      <td>1.000000</td>\n",
       "      <td>-0.017688</td>\n",
       "      <td>-0.005988</td>\n",
       "    </tr>\n",
       "    <tr>\n",
       "      <th>4</th>\n",
       "      <td>0.038726</td>\n",
       "      <td>0.057607</td>\n",
       "      <td>0.290779</td>\n",
       "      <td>-0.017688</td>\n",
       "      <td>1.000000</td>\n",
       "      <td>0.006011</td>\n",
       "    </tr>\n",
       "    <tr>\n",
       "      <th>5</th>\n",
       "      <td>-0.030447</td>\n",
       "      <td>-0.077931</td>\n",
       "      <td>-0.025086</td>\n",
       "      <td>-0.005988</td>\n",
       "      <td>0.006011</td>\n",
       "      <td>1.000000</td>\n",
       "    </tr>\n",
       "  </tbody>\n",
       "</table>\n",
       "</div>"
      ],
      "text/plain": [
       "          0         1         2         3         4         5\n",
       "0  1.000000  0.007493  0.058741  0.019578  0.038726 -0.030447\n",
       "1  0.007493  1.000000 -0.081416  0.046157  0.057607 -0.077931\n",
       "2  0.058741 -0.081416  1.000000 -0.001458  0.290779 -0.025086\n",
       "3  0.019578  0.046157 -0.001458  1.000000 -0.017688 -0.005988\n",
       "4  0.038726  0.057607  0.290779 -0.017688  1.000000  0.006011\n",
       "5 -0.030447 -0.077931 -0.025086 -0.005988  0.006011  1.000000"
      ]
     },
     "execution_count": 10,
     "metadata": {},
     "output_type": "execute_result"
    }
   ],
   "source": [
    "X_scaled = scale(X, axis=0, with_mean=True, with_std=True, copy=True)\n",
    "df = pd.DataFrame(X_scaled)\n",
    "df.corr(method='pearson', min_periods=1) # pearson -> método estándar"
   ]
  },
  {
   "cell_type": "markdown",
   "metadata": {},
   "source": [
    "# Intento de predicción del Tempo a partir de la duración"
   ]
  },
  {
   "cell_type": "code",
   "execution_count": 11,
   "metadata": {},
   "outputs": [],
   "source": [
    "Duration = np.asarray( data.loc[:, 'Duration' ] )# body ---> variable dependiente --> x \n",
    "Tempo = np.asarray( data.loc[:, 'Tempo' ] ) # heart weight ---> variable independiente --> y (lo que predigo)"
   ]
  },
  {
   "cell_type": "code",
   "execution_count": 12,
   "metadata": {},
   "outputs": [
    {
     "data": {
      "text/html": [
       "<table class=\"simpletable\">\n",
       "<caption>OLS Regression Results</caption>\n",
       "<tr>\n",
       "  <th>Dep. Variable:</th>            <td>y</td>        <th>  R-squared:         </th>  <td>   0.000</td>  \n",
       "</tr>\n",
       "<tr>\n",
       "  <th>Model:</th>                   <td>OLS</td>       <th>  Adj. R-squared:    </th>  <td>   0.000</td>  \n",
       "</tr>\n",
       "<tr>\n",
       "  <th>Method:</th>             <td>Least Squares</td>  <th>  F-statistic:       </th>  <td>   21.50</td>  \n",
       "</tr>\n",
       "<tr>\n",
       "  <th>Date:</th>             <td>Thu, 21 Feb 2019</td> <th>  Prob (F-statistic):</th>  <td>3.54e-06</td>  \n",
       "</tr>\n",
       "<tr>\n",
       "  <th>Time:</th>                 <td>19:06:25</td>     <th>  Log-Likelihood:    </th> <td>-2.6294e+05</td>\n",
       "</tr>\n",
       "<tr>\n",
       "  <th>No. Observations:</th>      <td> 56083</td>      <th>  AIC:               </th>  <td>5.259e+05</td> \n",
       "</tr>\n",
       "<tr>\n",
       "  <th>Df Residuals:</th>          <td> 56081</td>      <th>  BIC:               </th>  <td>5.259e+05</td> \n",
       "</tr>\n",
       "<tr>\n",
       "  <th>Df Model:</th>              <td>     1</td>      <th>                     </th>      <td> </td>     \n",
       "</tr>\n",
       "<tr>\n",
       "  <th>Covariance Type:</th>      <td>nonrobust</td>    <th>                     </th>      <td> </td>     \n",
       "</tr>\n",
       "</table>\n",
       "<table class=\"simpletable\">\n",
       "<tr>\n",
       "    <td></td>       <th>coef</th>     <th>std err</th>      <th>t</th>      <th>P>|t|</th>  <th>[0.025</th>    <th>0.975]</th>  \n",
       "</tr>\n",
       "<tr>\n",
       "  <th>const</th> <td>  100.4540</td> <td>    4.495</td> <td>   22.347</td> <td> 0.000</td> <td>   91.644</td> <td>  109.265</td>\n",
       "</tr>\n",
       "<tr>\n",
       "  <th>x1</th>    <td>    4.1721</td> <td>    0.900</td> <td>    4.637</td> <td> 0.000</td> <td>    2.409</td> <td>    5.935</td>\n",
       "</tr>\n",
       "</table>\n",
       "<table class=\"simpletable\">\n",
       "<tr>\n",
       "  <th>Omnibus:</th>       <td>2375.301</td> <th>  Durbin-Watson:     </th> <td>   1.990</td>\n",
       "</tr>\n",
       "<tr>\n",
       "  <th>Prob(Omnibus):</th>  <td> 0.000</td>  <th>  Jarque-Bera (JB):  </th> <td>2683.508</td>\n",
       "</tr>\n",
       "<tr>\n",
       "  <th>Skew:</th>           <td> 0.534</td>  <th>  Prob(JB):          </th> <td>    0.00</td>\n",
       "</tr>\n",
       "<tr>\n",
       "  <th>Kurtosis:</th>       <td> 2.905</td>  <th>  Cond. No.          </th> <td>    210.</td>\n",
       "</tr>\n",
       "</table><br/><br/>Warnings:<br/>[1] Standard Errors assume that the covariance matrix of the errors is correctly specified."
      ],
      "text/plain": [
       "<class 'statsmodels.iolib.summary.Summary'>\n",
       "\"\"\"\n",
       "                            OLS Regression Results                            \n",
       "==============================================================================\n",
       "Dep. Variable:                      y   R-squared:                       0.000\n",
       "Model:                            OLS   Adj. R-squared:                  0.000\n",
       "Method:                 Least Squares   F-statistic:                     21.50\n",
       "Date:                Thu, 21 Feb 2019   Prob (F-statistic):           3.54e-06\n",
       "Time:                        19:06:25   Log-Likelihood:            -2.6294e+05\n",
       "No. Observations:               56083   AIC:                         5.259e+05\n",
       "Df Residuals:                   56081   BIC:                         5.259e+05\n",
       "Df Model:                           1                                         \n",
       "Covariance Type:            nonrobust                                         \n",
       "==============================================================================\n",
       "                 coef    std err          t      P>|t|      [0.025      0.975]\n",
       "------------------------------------------------------------------------------\n",
       "const        100.4540      4.495     22.347      0.000      91.644     109.265\n",
       "x1             4.1721      0.900      4.637      0.000       2.409       5.935\n",
       "==============================================================================\n",
       "Omnibus:                     2375.301   Durbin-Watson:                   1.990\n",
       "Prob(Omnibus):                  0.000   Jarque-Bera (JB):             2683.508\n",
       "Skew:                           0.534   Prob(JB):                         0.00\n",
       "Kurtosis:                       2.905   Cond. No.                         210.\n",
       "==============================================================================\n",
       "\n",
       "Warnings:\n",
       "[1] Standard Errors assume that the covariance matrix of the errors is correctly specified.\n",
       "\"\"\""
      ]
     },
     "execution_count": 12,
     "metadata": {},
     "output_type": "execute_result"
    }
   ],
   "source": [
    "# esto es un ajuste lineal (cuadrados mínimos)\n",
    "linearRegresionTest = sm.add_constant( Duration )\n",
    "model = sm.OLS(Tempo, linearRegresionTest).fit()\n",
    "\n",
    "model.summary()"
   ]
  },
  {
   "cell_type": "code",
   "execution_count": 13,
   "metadata": {},
   "outputs": [
    {
     "name": "stdout",
     "output_type": "stream",
     "text": [
      "El R cuadrado es muy bajo!\n"
     ]
    }
   ],
   "source": [
    "#AdjRSquared = 0.009\n",
    "#AdjRSquared\n",
    "\n",
    "print(\"El R cuadrado es muy bajo!\")"
   ]
  },
  {
   "cell_type": "markdown",
   "metadata": {},
   "source": [
    "## Regresión múltiple (varias variables)"
   ]
  },
  {
   "cell_type": "code",
   "execution_count": 14,
   "metadata": {},
   "outputs": [],
   "source": [
    "# https://stackoverflow.com/questions/11479064/multiple-linear-regression-in-python\n",
    "def reg_multiple(y, x):\n",
    "    ones = np.ones(len(x[0]))\n",
    "    X = sm.add_constant(np.column_stack((x[0], ones)))\n",
    "    for ele in x[1:]:\n",
    "        X = sm.add_constant(np.column_stack((ele, X)))\n",
    "    results = sm.OLS(y, X).fit()\n",
    "    return results"
   ]
  },
  {
   "cell_type": "markdown",
   "metadata": {},
   "source": [
    "## Predicción de Tempo a partir de Duration y TemporalCentroid"
   ]
  },
  {
   "cell_type": "code",
   "execution_count": 15,
   "metadata": {},
   "outputs": [
    {
     "data": {
      "text/html": [
       "<table class=\"simpletable\">\n",
       "<caption>OLS Regression Results</caption>\n",
       "<tr>\n",
       "  <th>Dep. Variable:</th>            <td>y</td>        <th>  R-squared:         </th>  <td>   0.001</td>  \n",
       "</tr>\n",
       "<tr>\n",
       "  <th>Model:</th>                   <td>OLS</td>       <th>  Adj. R-squared:    </th>  <td>   0.001</td>  \n",
       "</tr>\n",
       "<tr>\n",
       "  <th>Method:</th>             <td>Least Squares</td>  <th>  F-statistic:       </th>  <td>   20.32</td>  \n",
       "</tr>\n",
       "<tr>\n",
       "  <th>Date:</th>             <td>Thu, 21 Feb 2019</td> <th>  Prob (F-statistic):</th>  <td>1.51e-09</td>  \n",
       "</tr>\n",
       "<tr>\n",
       "  <th>Time:</th>                 <td>19:06:26</td>     <th>  Log-Likelihood:    </th> <td>-2.6293e+05</td>\n",
       "</tr>\n",
       "<tr>\n",
       "  <th>No. Observations:</th>      <td> 56083</td>      <th>  AIC:               </th>  <td>5.259e+05</td> \n",
       "</tr>\n",
       "<tr>\n",
       "  <th>Df Residuals:</th>          <td> 56080</td>      <th>  BIC:               </th>  <td>5.259e+05</td> \n",
       "</tr>\n",
       "<tr>\n",
       "  <th>Df Model:</th>              <td>     2</td>      <th>                     </th>      <td> </td>     \n",
       "</tr>\n",
       "<tr>\n",
       "  <th>Covariance Type:</th>      <td>nonrobust</td>    <th>                     </th>      <td> </td>     \n",
       "</tr>\n",
       "</table>\n",
       "<table class=\"simpletable\">\n",
       "<tr>\n",
       "    <td></td>       <th>coef</th>     <th>std err</th>      <th>t</th>      <th>P>|t|</th>  <th>[0.025</th>    <th>0.975]</th>  \n",
       "</tr>\n",
       "<tr>\n",
       "  <th>x1</th>    <td>   -7.9495</td> <td>    1.818</td> <td>   -4.373</td> <td> 0.000</td> <td>  -11.513</td> <td>   -4.387</td>\n",
       "</tr>\n",
       "<tr>\n",
       "  <th>x2</th>    <td>    4.3245</td> <td>    0.900</td> <td>    4.804</td> <td> 0.000</td> <td>    2.560</td> <td>    6.089</td>\n",
       "</tr>\n",
       "<tr>\n",
       "  <th>const</th> <td>  103.6648</td> <td>    4.554</td> <td>   22.764</td> <td> 0.000</td> <td>   94.739</td> <td>  112.591</td>\n",
       "</tr>\n",
       "</table>\n",
       "<table class=\"simpletable\">\n",
       "<tr>\n",
       "  <th>Omnibus:</th>       <td>2372.803</td> <th>  Durbin-Watson:     </th> <td>   1.990</td>\n",
       "</tr>\n",
       "<tr>\n",
       "  <th>Prob(Omnibus):</th>  <td> 0.000</td>  <th>  Jarque-Bera (JB):  </th> <td>2680.367</td>\n",
       "</tr>\n",
       "<tr>\n",
       "  <th>Skew:</th>           <td> 0.533</td>  <th>  Prob(JB):          </th> <td>    0.00</td>\n",
       "</tr>\n",
       "<tr>\n",
       "  <th>Kurtosis:</th>       <td> 2.905</td>  <th>  Cond. No.          </th> <td>    214.</td>\n",
       "</tr>\n",
       "</table><br/><br/>Warnings:<br/>[1] Standard Errors assume that the covariance matrix of the errors is correctly specified."
      ],
      "text/plain": [
       "<class 'statsmodels.iolib.summary.Summary'>\n",
       "\"\"\"\n",
       "                            OLS Regression Results                            \n",
       "==============================================================================\n",
       "Dep. Variable:                      y   R-squared:                       0.001\n",
       "Model:                            OLS   Adj. R-squared:                  0.001\n",
       "Method:                 Least Squares   F-statistic:                     20.32\n",
       "Date:                Thu, 21 Feb 2019   Prob (F-statistic):           1.51e-09\n",
       "Time:                        19:06:26   Log-Likelihood:            -2.6293e+05\n",
       "No. Observations:               56083   AIC:                         5.259e+05\n",
       "Df Residuals:                   56080   BIC:                         5.259e+05\n",
       "Df Model:                           2                                         \n",
       "Covariance Type:            nonrobust                                         \n",
       "==============================================================================\n",
       "                 coef    std err          t      P>|t|      [0.025      0.975]\n",
       "------------------------------------------------------------------------------\n",
       "x1            -7.9495      1.818     -4.373      0.000     -11.513      -4.387\n",
       "x2             4.3245      0.900      4.804      0.000       2.560       6.089\n",
       "const        103.6648      4.554     22.764      0.000      94.739     112.591\n",
       "==============================================================================\n",
       "Omnibus:                     2372.803   Durbin-Watson:                   1.990\n",
       "Prob(Omnibus):                  0.000   Jarque-Bera (JB):             2680.367\n",
       "Skew:                           0.533   Prob(JB):                         0.00\n",
       "Kurtosis:                       2.905   Cond. No.                         214.\n",
       "==============================================================================\n",
       "\n",
       "Warnings:\n",
       "[1] Standard Errors assume that the covariance matrix of the errors is correctly specified.\n",
       "\"\"\""
      ]
     },
     "execution_count": 15,
     "metadata": {},
     "output_type": "execute_result"
    }
   ],
   "source": [
    "TemporalCentroid = np.asarray( data.loc[:, 'TemporalCentroid' ] )\n",
    "Pitch = np.asarray( data.loc[:, 'Pitch' ] )\n",
    "\n",
    "y = Tempo\n",
    "\n",
    "X = np.array( [ Duration, TemporalCentroid])\n",
    "#X = np.array( [ Pitch, TemporalCentroid])\n",
    "\n",
    "reg_multiple(y, X).summary()"
   ]
  },
  {
   "cell_type": "code",
   "execution_count": 16,
   "metadata": {},
   "outputs": [
    {
     "name": "stdout",
     "output_type": "stream",
     "text": [
      "El R cuadrado es muy bajo!\n"
     ]
    }
   ],
   "source": [
    "print(\"El R cuadrado es muy bajo!\")"
   ]
  }
 ],
 "metadata": {
  "kernelspec": {
   "display_name": "RedPanalDBAnalysis",
   "language": "python",
   "name": "redpanaldbanalysis"
  },
  "language_info": {
   "codemirror_mode": {
    "name": "ipython",
    "version": 3
   },
   "file_extension": ".py",
   "mimetype": "text/x-python",
   "name": "python",
   "nbconvert_exporter": "python",
   "pygments_lexer": "ipython3",
   "version": "3.6.7"
  }
 },
 "nbformat": 4,
 "nbformat_minor": 2
}
