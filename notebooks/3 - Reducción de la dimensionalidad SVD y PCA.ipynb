{
 "cells": [
  {
   "cell_type": "markdown",
   "metadata": {},
   "source": [
    "# Aplicación de PCA (Principal Components Analysis)"
   ]
  },
  {
   "cell_type": "code",
   "execution_count": 1,
   "metadata": {},
   "outputs": [
    {
     "data": {
      "text/html": [
       "<div>\n",
       "<style scoped>\n",
       "    .dataframe tbody tr th:only-of-type {\n",
       "        vertical-align: middle;\n",
       "    }\n",
       "\n",
       "    .dataframe tbody tr th {\n",
       "        vertical-align: top;\n",
       "    }\n",
       "\n",
       "    .dataframe thead th {\n",
       "        text-align: right;\n",
       "    }\n",
       "</style>\n",
       "<table border=\"1\" class=\"dataframe\">\n",
       "  <thead>\n",
       "    <tr style=\"text-align: right;\">\n",
       "      <th></th>\n",
       "      <th>Duration</th>\n",
       "      <th>Loudness</th>\n",
       "      <th>LogAttackTime</th>\n",
       "      <th>Tempo</th>\n",
       "      <th>Tempo.confidence</th>\n",
       "      <th>TemporalCentroid</th>\n",
       "      <th>SingleEvent</th>\n",
       "      <th>Loop</th>\n",
       "      <th>Tonality</th>\n",
       "      <th>Tonality.confidence</th>\n",
       "      <th>DynamicRange</th>\n",
       "      <th>Note.midi</th>\n",
       "      <th>Note.frequency</th>\n",
       "      <th>Note.confidence</th>\n",
       "      <th>Genre</th>\n",
       "      <th>Mood</th>\n",
       "    </tr>\n",
       "  </thead>\n",
       "  <tbody>\n",
       "    <tr>\n",
       "      <th>0</th>\n",
       "      <td>24.218412</td>\n",
       "      <td>-16.581459</td>\n",
       "      <td>0.769376</td>\n",
       "      <td>95</td>\n",
       "      <td>0.133154</td>\n",
       "      <td>0.498596</td>\n",
       "      <td>False</td>\n",
       "      <td>False</td>\n",
       "      <td>G major</td>\n",
       "      <td>0.524679</td>\n",
       "      <td>9.689243</td>\n",
       "      <td>55</td>\n",
       "      <td>197.972900</td>\n",
       "      <td>0.000000</td>\n",
       "      <td>Genre B</td>\n",
       "      <td>Mood B</td>\n",
       "    </tr>\n",
       "    <tr>\n",
       "      <th>1</th>\n",
       "      <td>243.983673</td>\n",
       "      <td>-16.891335</td>\n",
       "      <td>1.618665</td>\n",
       "      <td>65</td>\n",
       "      <td>0.545527</td>\n",
       "      <td>0.479576</td>\n",
       "      <td>False</td>\n",
       "      <td>False</td>\n",
       "      <td>G major</td>\n",
       "      <td>0.785114</td>\n",
       "      <td>5.247044</td>\n",
       "      <td>40</td>\n",
       "      <td>85.456451</td>\n",
       "      <td>0.000000</td>\n",
       "      <td>Genre A</td>\n",
       "      <td>Mood A</td>\n",
       "    </tr>\n",
       "    <tr>\n",
       "      <th>2</th>\n",
       "      <td>15.281632</td>\n",
       "      <td>-21.658251</td>\n",
       "      <td>0.582658</td>\n",
       "      <td>63</td>\n",
       "      <td>0.996905</td>\n",
       "      <td>0.492315</td>\n",
       "      <td>True</td>\n",
       "      <td>True</td>\n",
       "      <td>C minor</td>\n",
       "      <td>0.698095</td>\n",
       "      <td>1.060242</td>\n",
       "      <td>50</td>\n",
       "      <td>151.972198</td>\n",
       "      <td>0.352345</td>\n",
       "      <td>Genre B</td>\n",
       "      <td>Mood B</td>\n",
       "    </tr>\n",
       "    <tr>\n",
       "      <th>3</th>\n",
       "      <td>2.000000</td>\n",
       "      <td>-10.525232</td>\n",
       "      <td>-1.590209</td>\n",
       "      <td>119</td>\n",
       "      <td>0.000000</td>\n",
       "      <td>0.468918</td>\n",
       "      <td>False</td>\n",
       "      <td>False</td>\n",
       "      <td>G# minor</td>\n",
       "      <td>0.646680</td>\n",
       "      <td>0.000000</td>\n",
       "      <td>41</td>\n",
       "      <td>91.402817</td>\n",
       "      <td>0.000000</td>\n",
       "      <td>Genre A</td>\n",
       "      <td>Mood A</td>\n",
       "    </tr>\n",
       "    <tr>\n",
       "      <th>4</th>\n",
       "      <td>1.454150</td>\n",
       "      <td>-28.335722</td>\n",
       "      <td>-0.492548</td>\n",
       "      <td>152</td>\n",
       "      <td>0.000000</td>\n",
       "      <td>0.502481</td>\n",
       "      <td>True</td>\n",
       "      <td>False</td>\n",
       "      <td>F# minor</td>\n",
       "      <td>0.408481</td>\n",
       "      <td>0.000000</td>\n",
       "      <td>107</td>\n",
       "      <td>3984.657227</td>\n",
       "      <td>0.695633</td>\n",
       "      <td>Genre A</td>\n",
       "      <td>Mood A</td>\n",
       "    </tr>\n",
       "  </tbody>\n",
       "</table>\n",
       "</div>"
      ],
      "text/plain": [
       "     Duration   Loudness  LogAttackTime  Tempo  Tempo.confidence  \\\n",
       "0   24.218412 -16.581459       0.769376     95          0.133154   \n",
       "1  243.983673 -16.891335       1.618665     65          0.545527   \n",
       "2   15.281632 -21.658251       0.582658     63          0.996905   \n",
       "3    2.000000 -10.525232      -1.590209    119          0.000000   \n",
       "4    1.454150 -28.335722      -0.492548    152          0.000000   \n",
       "\n",
       "   TemporalCentroid  SingleEvent   Loop  Tonality  Tonality.confidence  \\\n",
       "0          0.498596        False  False   G major             0.524679   \n",
       "1          0.479576        False  False   G major             0.785114   \n",
       "2          0.492315         True   True   C minor             0.698095   \n",
       "3          0.468918        False  False  G# minor             0.646680   \n",
       "4          0.502481         True  False  F# minor             0.408481   \n",
       "\n",
       "   DynamicRange  Note.midi  Note.frequency  Note.confidence    Genre    Mood  \n",
       "0      9.689243         55      197.972900         0.000000  Genre B  Mood B  \n",
       "1      5.247044         40       85.456451         0.000000  Genre A  Mood A  \n",
       "2      1.060242         50      151.972198         0.352345  Genre B  Mood B  \n",
       "3      0.000000         41       91.402817         0.000000  Genre A  Mood A  \n",
       "4      0.000000        107     3984.657227         0.695633  Genre A  Mood A  "
      ]
     },
     "execution_count": 1,
     "metadata": {},
     "output_type": "execute_result"
    }
   ],
   "source": [
    "from pandas import read_csv\n",
    "data = read_csv('snd-dataset-from-plain-json.csv')\n",
    "data.head()"
   ]
  },
  {
   "cell_type": "code",
   "execution_count": 2,
   "metadata": {},
   "outputs": [
    {
     "data": {
      "text/plain": [
       "(1017, 16)"
      ]
     },
     "execution_count": 2,
     "metadata": {},
     "output_type": "execute_result"
    }
   ],
   "source": [
    "# 16 columnas de datos\n",
    "data.shape"
   ]
  },
  {
   "cell_type": "code",
   "execution_count": 3,
   "metadata": {},
   "outputs": [
    {
     "data": {
      "text/html": [
       "<div>\n",
       "<style scoped>\n",
       "    .dataframe tbody tr th:only-of-type {\n",
       "        vertical-align: middle;\n",
       "    }\n",
       "\n",
       "    .dataframe tbody tr th {\n",
       "        vertical-align: top;\n",
       "    }\n",
       "\n",
       "    .dataframe thead th {\n",
       "        text-align: right;\n",
       "    }\n",
       "</style>\n",
       "<table border=\"1\" class=\"dataframe\">\n",
       "  <thead>\n",
       "    <tr style=\"text-align: right;\">\n",
       "      <th></th>\n",
       "      <th>Duration</th>\n",
       "      <th>Loudness</th>\n",
       "      <th>LogAttackTime</th>\n",
       "      <th>Tempo</th>\n",
       "      <th>TemporalCentroid</th>\n",
       "      <th>Tonality</th>\n",
       "      <th>DynamicRange</th>\n",
       "      <th>Note.midi</th>\n",
       "      <th>Note.frequency</th>\n",
       "      <th>Genre</th>\n",
       "      <th>Mood</th>\n",
       "    </tr>\n",
       "  </thead>\n",
       "  <tbody>\n",
       "    <tr>\n",
       "      <th>0</th>\n",
       "      <td>24.218412</td>\n",
       "      <td>-16.581459</td>\n",
       "      <td>0.769376</td>\n",
       "      <td>95</td>\n",
       "      <td>0.498596</td>\n",
       "      <td>G major</td>\n",
       "      <td>9.689243</td>\n",
       "      <td>55</td>\n",
       "      <td>197.972900</td>\n",
       "      <td>Genre B</td>\n",
       "      <td>Mood B</td>\n",
       "    </tr>\n",
       "    <tr>\n",
       "      <th>1</th>\n",
       "      <td>243.983673</td>\n",
       "      <td>-16.891335</td>\n",
       "      <td>1.618665</td>\n",
       "      <td>65</td>\n",
       "      <td>0.479576</td>\n",
       "      <td>G major</td>\n",
       "      <td>5.247044</td>\n",
       "      <td>40</td>\n",
       "      <td>85.456451</td>\n",
       "      <td>Genre A</td>\n",
       "      <td>Mood A</td>\n",
       "    </tr>\n",
       "    <tr>\n",
       "      <th>2</th>\n",
       "      <td>15.281632</td>\n",
       "      <td>-21.658251</td>\n",
       "      <td>0.582658</td>\n",
       "      <td>63</td>\n",
       "      <td>0.492315</td>\n",
       "      <td>C minor</td>\n",
       "      <td>1.060242</td>\n",
       "      <td>50</td>\n",
       "      <td>151.972198</td>\n",
       "      <td>Genre B</td>\n",
       "      <td>Mood B</td>\n",
       "    </tr>\n",
       "    <tr>\n",
       "      <th>3</th>\n",
       "      <td>2.000000</td>\n",
       "      <td>-10.525232</td>\n",
       "      <td>-1.590209</td>\n",
       "      <td>119</td>\n",
       "      <td>0.468918</td>\n",
       "      <td>G# minor</td>\n",
       "      <td>0.000000</td>\n",
       "      <td>41</td>\n",
       "      <td>91.402817</td>\n",
       "      <td>Genre A</td>\n",
       "      <td>Mood A</td>\n",
       "    </tr>\n",
       "    <tr>\n",
       "      <th>4</th>\n",
       "      <td>1.454150</td>\n",
       "      <td>-28.335722</td>\n",
       "      <td>-0.492548</td>\n",
       "      <td>152</td>\n",
       "      <td>0.502481</td>\n",
       "      <td>F# minor</td>\n",
       "      <td>0.000000</td>\n",
       "      <td>107</td>\n",
       "      <td>3984.657227</td>\n",
       "      <td>Genre A</td>\n",
       "      <td>Mood A</td>\n",
       "    </tr>\n",
       "  </tbody>\n",
       "</table>\n",
       "</div>"
      ],
      "text/plain": [
       "     Duration   Loudness  LogAttackTime  Tempo  TemporalCentroid  Tonality  \\\n",
       "0   24.218412 -16.581459       0.769376     95          0.498596   G major   \n",
       "1  243.983673 -16.891335       1.618665     65          0.479576   G major   \n",
       "2   15.281632 -21.658251       0.582658     63          0.492315   C minor   \n",
       "3    2.000000 -10.525232      -1.590209    119          0.468918  G# minor   \n",
       "4    1.454150 -28.335722      -0.492548    152          0.502481  F# minor   \n",
       "\n",
       "   DynamicRange  Note.midi  Note.frequency    Genre    Mood  \n",
       "0      9.689243         55      197.972900  Genre B  Mood B  \n",
       "1      5.247044         40       85.456451  Genre A  Mood A  \n",
       "2      1.060242         50      151.972198  Genre B  Mood B  \n",
       "3      0.000000         41       91.402817  Genre A  Mood A  \n",
       "4      0.000000        107     3984.657227  Genre A  Mood A  "
      ]
     },
     "execution_count": 3,
     "metadata": {},
     "output_type": "execute_result"
    }
   ],
   "source": [
    "# Descarto columnas que no se van a usar por ahora\n",
    "# Tip: axis number (0 for rows and 1 for columns)\n",
    "data = data.drop(\"Tempo.confidence\", axis=1);\n",
    "data = data.drop(\"Tonality.confidence\", axis=1);\n",
    "data = data.drop(\"Note.confidence\", axis=1);\n",
    "data = data.drop(\"Loop\", axis=1);\n",
    "data = data.drop(\"SingleEvent\", axis=1);\n",
    "\n",
    "data.head()"
   ]
  },
  {
   "cell_type": "code",
   "execution_count": 4,
   "metadata": {},
   "outputs": [],
   "source": [
    "key_to_number_list = ['A minor', 'A major', 'A# minor', 'A# major', 'B minor', 'B major', 'C minor', 'C major', 'C# minor', 'C# major', 'D minor', 'D major', 'D# minor', 'D# major','E minor', 'E major', 'F minor', 'F major', 'F# minor', 'F# major', 'G minor', 'G major','G# minor', 'G# major']\n",
    "\n",
    "def keyToNumber(x_value):\n",
    "    return [i for i,x in enumerate(key_to_number_list) if x == x_value][0]"
   ]
  },
  {
   "cell_type": "code",
   "execution_count": 5,
   "metadata": {},
   "outputs": [
    {
     "data": {
      "text/plain": [
       "4"
      ]
     },
     "execution_count": 5,
     "metadata": {},
     "output_type": "execute_result"
    }
   ],
   "source": [
    "# test\n",
    "keyToNumber('B minor')"
   ]
  },
  {
   "cell_type": "code",
   "execution_count": 6,
   "metadata": {},
   "outputs": [],
   "source": [
    "# Mapeo de las tonalidades 'en texto' a categorias numéricas\n",
    "#data['Tonality'] = data['Tonality'].map(keyToNumber)\n",
    "data = data.drop(\"Tonality\", axis=1);\n",
    "\n",
    "# Mapeo de Género y Mood a 0/1\n",
    "#data['Genre'] = data['Genre'].map(lambda x: 1 if x=='Genre A' else 0)\n",
    "#data['Mood'] = data['Mood'].map(lambda x: 1 if x=='Mood A' else 0)\n",
    "data = data.drop(\"Genre\", axis=1);\n",
    "data = data.drop(\"Mood\", axis=1);"
   ]
  },
  {
   "cell_type": "code",
   "execution_count": 7,
   "metadata": {},
   "outputs": [
    {
     "data": {
      "text/html": [
       "<div>\n",
       "<style scoped>\n",
       "    .dataframe tbody tr th:only-of-type {\n",
       "        vertical-align: middle;\n",
       "    }\n",
       "\n",
       "    .dataframe tbody tr th {\n",
       "        vertical-align: top;\n",
       "    }\n",
       "\n",
       "    .dataframe thead th {\n",
       "        text-align: right;\n",
       "    }\n",
       "</style>\n",
       "<table border=\"1\" class=\"dataframe\">\n",
       "  <thead>\n",
       "    <tr style=\"text-align: right;\">\n",
       "      <th></th>\n",
       "      <th>Duration</th>\n",
       "      <th>Loudness</th>\n",
       "      <th>LogAttackTime</th>\n",
       "      <th>Tempo</th>\n",
       "      <th>TemporalCentroid</th>\n",
       "      <th>DynamicRange</th>\n",
       "      <th>Note.midi</th>\n",
       "      <th>Note.frequency</th>\n",
       "    </tr>\n",
       "  </thead>\n",
       "  <tbody>\n",
       "    <tr>\n",
       "      <th>0</th>\n",
       "      <td>24.218412</td>\n",
       "      <td>-16.581459</td>\n",
       "      <td>0.769376</td>\n",
       "      <td>95</td>\n",
       "      <td>0.498596</td>\n",
       "      <td>9.689243</td>\n",
       "      <td>55</td>\n",
       "      <td>197.972900</td>\n",
       "    </tr>\n",
       "    <tr>\n",
       "      <th>1</th>\n",
       "      <td>243.983673</td>\n",
       "      <td>-16.891335</td>\n",
       "      <td>1.618665</td>\n",
       "      <td>65</td>\n",
       "      <td>0.479576</td>\n",
       "      <td>5.247044</td>\n",
       "      <td>40</td>\n",
       "      <td>85.456451</td>\n",
       "    </tr>\n",
       "    <tr>\n",
       "      <th>2</th>\n",
       "      <td>15.281632</td>\n",
       "      <td>-21.658251</td>\n",
       "      <td>0.582658</td>\n",
       "      <td>63</td>\n",
       "      <td>0.492315</td>\n",
       "      <td>1.060242</td>\n",
       "      <td>50</td>\n",
       "      <td>151.972198</td>\n",
       "    </tr>\n",
       "    <tr>\n",
       "      <th>3</th>\n",
       "      <td>2.000000</td>\n",
       "      <td>-10.525232</td>\n",
       "      <td>-1.590209</td>\n",
       "      <td>119</td>\n",
       "      <td>0.468918</td>\n",
       "      <td>0.000000</td>\n",
       "      <td>41</td>\n",
       "      <td>91.402817</td>\n",
       "    </tr>\n",
       "    <tr>\n",
       "      <th>4</th>\n",
       "      <td>1.454150</td>\n",
       "      <td>-28.335722</td>\n",
       "      <td>-0.492548</td>\n",
       "      <td>152</td>\n",
       "      <td>0.502481</td>\n",
       "      <td>0.000000</td>\n",
       "      <td>107</td>\n",
       "      <td>3984.657227</td>\n",
       "    </tr>\n",
       "  </tbody>\n",
       "</table>\n",
       "</div>"
      ],
      "text/plain": [
       "     Duration   Loudness  LogAttackTime  Tempo  TemporalCentroid  \\\n",
       "0   24.218412 -16.581459       0.769376     95          0.498596   \n",
       "1  243.983673 -16.891335       1.618665     65          0.479576   \n",
       "2   15.281632 -21.658251       0.582658     63          0.492315   \n",
       "3    2.000000 -10.525232      -1.590209    119          0.468918   \n",
       "4    1.454150 -28.335722      -0.492548    152          0.502481   \n",
       "\n",
       "   DynamicRange  Note.midi  Note.frequency  \n",
       "0      9.689243         55      197.972900  \n",
       "1      5.247044         40       85.456451  \n",
       "2      1.060242         50      151.972198  \n",
       "3      0.000000         41       91.402817  \n",
       "4      0.000000        107     3984.657227  "
      ]
     },
     "execution_count": 7,
     "metadata": {},
     "output_type": "execute_result"
    }
   ],
   "source": [
    "data.head()"
   ]
  },
  {
   "cell_type": "code",
   "execution_count": 8,
   "metadata": {},
   "outputs": [
    {
     "data": {
      "text/plain": [
       "PCA(copy=True, iterated_power='auto', n_components=None, random_state=None,\n",
       "  svd_solver='auto', tol=0.0, whiten=False)"
      ]
     },
     "execution_count": 8,
     "metadata": {},
     "output_type": "execute_result"
    }
   ],
   "source": [
    "from sklearn.decomposition import PCA\n",
    "import numpy as np\n",
    "np.set_printoptions(precision=3) # se configura precisión de 3 decimales\n",
    "\n",
    "pca = PCA()\n",
    "pca.fit(data)"
   ]
  },
  {
   "cell_type": "code",
   "execution_count": 9,
   "metadata": {},
   "outputs": [
    {
     "data": {
      "text/plain": [
       "8"
      ]
     },
     "execution_count": 9,
     "metadata": {},
     "output_type": "execute_result"
    }
   ],
   "source": [
    "pca.n_components_"
   ]
  },
  {
   "cell_type": "code",
   "execution_count": 10,
   "metadata": {},
   "outputs": [
    {
     "data": {
      "text/plain": [
       "array([0.887, 0.11 ])"
      ]
     },
     "execution_count": 10,
     "metadata": {},
     "output_type": "execute_result"
    }
   ],
   "source": [
    "# Nota: En sklearn PCA esta implementado como una descomposición SVD\n",
    "# Libro hands on ML, p.214 (chapter 8)\n",
    "pca = PCA(n_components = 2)\n",
    "X2D = pca.fit_transform(data)\n",
    "pca.explained_variance_ratio_"
   ]
  },
  {
   "cell_type": "code",
   "execution_count": 11,
   "metadata": {},
   "outputs": [
    {
     "data": {
      "text/plain": [
       "array([0.887, 0.997])"
      ]
     },
     "execution_count": 11,
     "metadata": {},
     "output_type": "execute_result"
    }
   ],
   "source": [
    "# Y el acumulado agregando dimensiones\n",
    "np.cumsum(pca.explained_variance_ratio_)"
   ]
  },
  {
   "cell_type": "markdown",
   "metadata": {},
   "source": [
    "**Observación: Con este análisis pareceria que con solo 2 dimensiones se pueden representar más del 99% de los datos, pero este análisis es incorrecto ya que los datos de entrada no fueron normalizados.**\n"
   ]
  },
  {
   "cell_type": "markdown",
   "metadata": {},
   "source": [
    "# Escalado de los datos (normalización)\n",
    "\n",
    "Media = 0 y varianza = 1\n",
    "\n",
    "Referencia: http://scikit-learn.org/stable/modules/generated/sklearn.preprocessing.scale.html"
   ]
  },
  {
   "cell_type": "code",
   "execution_count": 12,
   "metadata": {},
   "outputs": [
    {
     "name": "stderr",
     "output_type": "stream",
     "text": [
      "/home/hordia/VirtualEnvs/RedPanalDBAnalysis/lib/python3.6/site-packages/ipykernel_launcher.py:7: DataConversionWarning: Data with input dtype int64, float64 were all converted to float64 by the scale function.\n",
      "  import sys\n"
     ]
    }
   ],
   "source": [
    "from sklearn.decomposition import PCA\n",
    "from sklearn.preprocessing import scale\n",
    "import numpy as np\n",
    "import pandas as pd\n",
    "\n",
    "X = data\n",
    "X_scaled = scale(X, axis=0, with_mean=True, with_std=True, copy=True)"
   ]
  },
  {
   "cell_type": "code",
   "execution_count": 13,
   "metadata": {},
   "outputs": [
    {
     "data": {
      "text/plain": [
       "(1017, 8)"
      ]
     },
     "execution_count": 13,
     "metadata": {},
     "output_type": "execute_result"
    }
   ],
   "source": [
    "df = pd.DataFrame(X_scaled)\n",
    "df.shape"
   ]
  },
  {
   "cell_type": "code",
   "execution_count": 14,
   "metadata": {},
   "outputs": [
    {
     "data": {
      "text/html": [
       "<div>\n",
       "<style scoped>\n",
       "    .dataframe tbody tr th:only-of-type {\n",
       "        vertical-align: middle;\n",
       "    }\n",
       "\n",
       "    .dataframe tbody tr th {\n",
       "        vertical-align: top;\n",
       "    }\n",
       "\n",
       "    .dataframe thead th {\n",
       "        text-align: right;\n",
       "    }\n",
       "</style>\n",
       "<table border=\"1\" class=\"dataframe\">\n",
       "  <thead>\n",
       "    <tr style=\"text-align: right;\">\n",
       "      <th></th>\n",
       "      <th>0</th>\n",
       "      <th>1</th>\n",
       "      <th>2</th>\n",
       "      <th>3</th>\n",
       "      <th>4</th>\n",
       "      <th>5</th>\n",
       "      <th>6</th>\n",
       "      <th>7</th>\n",
       "    </tr>\n",
       "  </thead>\n",
       "  <tbody>\n",
       "    <tr>\n",
       "      <th>0</th>\n",
       "      <td>-0.773524</td>\n",
       "      <td>0.076221</td>\n",
       "      <td>-0.188083</td>\n",
       "      <td>-0.787719</td>\n",
       "      <td>-0.041297</td>\n",
       "      <td>0.558422</td>\n",
       "      <td>-0.128382</td>\n",
       "      <td>-0.198272</td>\n",
       "    </tr>\n",
       "    <tr>\n",
       "      <th>1</th>\n",
       "      <td>0.463012</td>\n",
       "      <td>0.035421</td>\n",
       "      <td>0.608794</td>\n",
       "      <td>-1.935276</td>\n",
       "      <td>-0.315829</td>\n",
       "      <td>-0.270750</td>\n",
       "      <td>-1.568436</td>\n",
       "      <td>-0.423546</td>\n",
       "    </tr>\n",
       "    <tr>\n",
       "      <th>2</th>\n",
       "      <td>-0.823808</td>\n",
       "      <td>-0.592221</td>\n",
       "      <td>-0.363277</td>\n",
       "      <td>-2.011780</td>\n",
       "      <td>-0.131960</td>\n",
       "      <td>-1.052250</td>\n",
       "      <td>-0.608400</td>\n",
       "      <td>-0.290372</td>\n",
       "    </tr>\n",
       "    <tr>\n",
       "      <th>3</th>\n",
       "      <td>-0.898538</td>\n",
       "      <td>0.873622</td>\n",
       "      <td>-2.402048</td>\n",
       "      <td>0.130327</td>\n",
       "      <td>-0.469674</td>\n",
       "      <td>-1.250152</td>\n",
       "      <td>-1.472433</td>\n",
       "      <td>-0.411641</td>\n",
       "    </tr>\n",
       "    <tr>\n",
       "      <th>4</th>\n",
       "      <td>-0.901610</td>\n",
       "      <td>-1.471420</td>\n",
       "      <td>-1.372128</td>\n",
       "      <td>1.392641</td>\n",
       "      <td>0.014780</td>\n",
       "      <td>-1.250152</td>\n",
       "      <td>4.863804</td>\n",
       "      <td>7.383230</td>\n",
       "    </tr>\n",
       "  </tbody>\n",
       "</table>\n",
       "</div>"
      ],
      "text/plain": [
       "          0         1         2         3         4         5         6  \\\n",
       "0 -0.773524  0.076221 -0.188083 -0.787719 -0.041297  0.558422 -0.128382   \n",
       "1  0.463012  0.035421  0.608794 -1.935276 -0.315829 -0.270750 -1.568436   \n",
       "2 -0.823808 -0.592221 -0.363277 -2.011780 -0.131960 -1.052250 -0.608400   \n",
       "3 -0.898538  0.873622 -2.402048  0.130327 -0.469674 -1.250152 -1.472433   \n",
       "4 -0.901610 -1.471420 -1.372128  1.392641  0.014780 -1.250152  4.863804   \n",
       "\n",
       "          7  \n",
       "0 -0.198272  \n",
       "1 -0.423546  \n",
       "2 -0.290372  \n",
       "3 -0.411641  \n",
       "4  7.383230  "
      ]
     },
     "execution_count": 14,
     "metadata": {},
     "output_type": "execute_result"
    }
   ],
   "source": [
    "df.head()"
   ]
  },
  {
   "cell_type": "code",
   "execution_count": 15,
   "metadata": {},
   "outputs": [
    {
     "data": {
      "text/plain": [
       "PCA(copy=True, iterated_power='auto', n_components=None, random_state=None,\n",
       "  svd_solver='auto', tol=0.0, whiten=False)"
      ]
     },
     "execution_count": 15,
     "metadata": {},
     "output_type": "execute_result"
    }
   ],
   "source": [
    "# Nota: En sklearn PCA esta implementado como una descomposición SVD\n",
    "# Libro hands on ML, p.214 (chapter 8)\n",
    "pca = PCA()\n",
    "pca.fit(X_scaled)"
   ]
  },
  {
   "cell_type": "code",
   "execution_count": 16,
   "metadata": {},
   "outputs": [
    {
     "data": {
      "text/plain": [
       "8"
      ]
     },
     "execution_count": 16,
     "metadata": {},
     "output_type": "execute_result"
    }
   ],
   "source": [
    "# cantidad de componentes resultantes\n",
    "pca.n_components_"
   ]
  },
  {
   "cell_type": "code",
   "execution_count": 17,
   "metadata": {},
   "outputs": [
    {
     "data": {
      "text/plain": [
       "array([2.091, 1.759, 1.086, 0.959, 0.877, 0.573, 0.474, 0.189])"
      ]
     },
     "execution_count": 17,
     "metadata": {},
     "output_type": "execute_result"
    }
   ],
   "source": [
    "# estos son los autovalores (ordenados de mayor a menor)\n",
    "pca.explained_variance_"
   ]
  },
  {
   "cell_type": "code",
   "execution_count": 18,
   "metadata": {},
   "outputs": [
    {
     "data": {
      "text/plain": [
       "0.261125175335572"
      ]
     },
     "execution_count": 18,
     "metadata": {},
     "output_type": "execute_result"
    }
   ],
   "source": [
    "avalores = pca.explained_variance_\n",
    "avalores[0]/sum(avalores)"
   ]
  },
  {
   "cell_type": "markdown",
   "metadata": {},
   "source": [
    "## Variabilidad que aporta cada componente\n",
    "\n",
    "Lo que representa en porcentaje"
   ]
  },
  {
   "cell_type": "code",
   "execution_count": 19,
   "metadata": {},
   "outputs": [
    {
     "data": {
      "text/plain": [
       "array([0.261, 0.22 , 0.136, 0.12 , 0.11 , 0.072, 0.059, 0.024])"
      ]
     },
     "execution_count": 19,
     "metadata": {},
     "output_type": "execute_result"
    }
   ],
   "source": [
    "# Esto muestra la 'variabilidad' que aporta cada componente\n",
    "# (lo que representa en porcentaje)\n",
    "pca.explained_variance_ratio_"
   ]
  },
  {
   "cell_type": "markdown",
   "metadata": {},
   "source": [
    "### El acumulado agregando dimensiones"
   ]
  },
  {
   "cell_type": "code",
   "execution_count": 20,
   "metadata": {},
   "outputs": [
    {
     "data": {
      "text/plain": [
       "array([0.261, 0.481, 0.616, 0.736, 0.846, 0.917, 0.976, 1.   ])"
      ]
     },
     "execution_count": 20,
     "metadata": {},
     "output_type": "execute_result"
    }
   ],
   "source": [
    "# Y el acumulado agregando dimensiones\n",
    "np.cumsum(pca.explained_variance_ratio_)"
   ]
  },
  {
   "cell_type": "markdown",
   "metadata": {},
   "source": [
    "**Observación: Con los datos escalados, recién con 4 o 5 dimensiones tengo un porcentaje de cobertura interesante, pero necesito 6 para representar más del 90% de los datos.**"
   ]
  },
  {
   "cell_type": "markdown",
   "metadata": {},
   "source": [
    "#### Ecuación del modelo\n",
    "\n"
   ]
  },
  {
   "cell_type": "code",
   "execution_count": 21,
   "metadata": {
    "scrolled": true
   },
   "outputs": [
    {
     "data": {
      "text/plain": [
       "array([-0.501, -0.134, -0.488, -0.099, -0.304, -0.274,  0.386,  0.408])"
      ]
     },
     "execution_count": 21,
     "metadata": {},
     "output_type": "execute_result"
    }
   ],
   "source": [
    "# componente 1\n",
    "pca.components_.T[:,0]"
   ]
  },
  {
   "cell_type": "code",
   "execution_count": 22,
   "metadata": {},
   "outputs": [
    {
     "data": {
      "text/plain": [
       "array([ 0.237, -0.152,  0.322,  0.135,  0.227,  0.368,  0.566,  0.54 ])"
      ]
     },
     "execution_count": 22,
     "metadata": {},
     "output_type": "execute_result"
    }
   ],
   "source": [
    "# componente 2 (autovector del autovalor 2)\n",
    "pca.components_.T[:,1]"
   ]
  },
  {
   "cell_type": "code",
   "execution_count": 23,
   "metadata": {},
   "outputs": [
    {
     "data": {
      "text/plain": [
       "array([ 0.008, -0.665,  0.007, -0.392, -0.375,  0.478, -0.11 , -0.15 ])"
      ]
     },
     "execution_count": 23,
     "metadata": {},
     "output_type": "execute_result"
    }
   ],
   "source": [
    "# componente 3\n",
    "pca.components_.T[:,2]"
   ]
  },
  {
   "cell_type": "markdown",
   "metadata": {},
   "source": [
    "# Visualización"
   ]
  },
  {
   "cell_type": "code",
   "execution_count": 24,
   "metadata": {},
   "outputs": [],
   "source": [
    "%matplotlib inline\n",
    "import numpy as np\n",
    "import matplotlib.pyplot as plt\n",
    "import seaborn as sns; sns.set()"
   ]
  },
  {
   "cell_type": "code",
   "execution_count": 25,
   "metadata": {},
   "outputs": [
    {
     "data": {
      "text/plain": [
       "Text(0.5, 1.0, 'PCA: Representación de la proyección de los datos en 2 dimensiones')"
      ]
     },
     "execution_count": 25,
     "metadata": {},
     "output_type": "execute_result"
    },
    {
     "data": {
      "image/png": "[encoded data removed]",
      "text/plain": [
       "<Figure size 432x288 with 1 Axes>"
      ]
     },
     "metadata": {
      "needs_background": "light"
     },
     "output_type": "display_data"
    }
   ],
   "source": [
    "pca = PCA(n_components=2)\n",
    "projected = pca.fit_transform(X_scaled)\n",
    "plt.scatter(projected[:, 0], projected[:, 1])\n",
    "plt.title(\"PCA: Representación de la proyección de los datos en 2 dimensiones\")"
   ]
  },
  {
   "cell_type": "markdown",
   "metadata": {},
   "source": [
    "## Con 3 dimensiones se representa el 60% de los datos\n",
    "\n",
    "El acumulado por dimensiones es:\n",
    "    [0.26, 0.48, 0.62, 0.74, 0.85, 0.92, 0.98, 1.]"
   ]
  },
  {
   "cell_type": "code",
   "execution_count": 26,
   "metadata": {},
   "outputs": [
    {
     "data": {
      "image/png": "[encoded data removed]",
      "text/plain": [
       "<Figure size 720x504 with 2 Axes>"
      ]
     },
     "metadata": {
      "needs_background": "light"
     },
     "output_type": "display_data"
    }
   ],
   "source": [
    "# 3 dimensiones representa el 60% de los datos\n",
    "pca = PCA(n_components=3)\n",
    "projected = pca.fit_transform(X_scaled)\n",
    "plt.figure(figsize=(10,7))\n",
    "plt.scatter(projected[:, 0], projected[:, 1],\n",
    "            c=projected[:, 2], edgecolor='none', alpha=0.5,\n",
    "            cmap=plt.cm.get_cmap('BuPu', 10))\n",
    "plt.title(\"PCA: Representación de la proyección en 3 dimensiones\")\n",
    "plt.xlabel('Componente 1')\n",
    "plt.ylabel('Componente 2')\n",
    "plt.colorbar();"
   ]
  },
  {
   "cell_type": "code",
   "execution_count": 28,
   "metadata": {},
   "outputs": [
    {
     "data": {
      "image/png": "[encoded data removed]",
      "text/plain": [
       "<Figure size 432x288 with 1 Axes>"
      ]
     },
     "metadata": {},
     "output_type": "display_data"
    }
   ],
   "source": [
    "pca = PCA(n_components=1)\n",
    "pca.fit(X_scaled)\n",
    "X_pca = pca.transform(X_scaled)\n",
    "X_new = pca.inverse_transform(X_pca)\n",
    "plt.scatter(X_scaled[:, 0], X_scaled[:, 1], alpha=0.2)\n",
    "plt.scatter(X_new[:, 0], X_new[:, 1], alpha=0.8)\n",
    "plt.title(\"Proyección sobre 1 dimensión\")\n",
    "plt.axis('equal');"
   ]
  },
  {
   "cell_type": "markdown",
   "metadata": {},
   "source": [
    "# Conclusión parcial\n",
    "\n",
    "Se logró reducir las dimensionalidad del dataset y realizar visualizaciones ilustrativas. Con 3 dimensiones se pueden representar aproximadamente el 60% de los datos, mientras que para lograr un porcentaje mayor al 90% se necesitan 6 (el doble).\n",
    "\n",
    "---\n",
    "\n",
    "**Siguiente:** [4 - Conclusión final](4%20-%20Conclusión%20primera%20parte.ipynb)"
   ]
  }
 ],
 "metadata": {
  "kernelspec": {
   "display_name": "RedPanalDBAnalysis",
   "language": "python",
   "name": "redpanaldbanalysis"
  },
  "language_info": {
   "codemirror_mode": {
    "name": "ipython",
    "version": 3
   },
   "file_extension": ".py",
   "mimetype": "text/x-python",
   "name": "python",
   "nbconvert_exporter": "python",
   "pygments_lexer": "ipython3",
   "version": "3.6.7"
  }
 },
 "nbformat": 4,
 "nbformat_minor": 2
}
