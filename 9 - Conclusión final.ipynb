{
 "cells": [
  {
   "cell_type": "markdown",
   "metadata": {},
   "source": [
    "# Conclusión final\n",
    "\n",
    "La predicción de features en base a otras instancias (regresión) no parece del todo confiable.\n",
    "Sin embargo, como hay cientos de otros features que se pueden extraer de las muestras de audio se espera poder encontrar un modelo utilizando las herramientas de regresión, cluster y visualización implementadas en el presente trabajo.\n",
    "Las proyecciones (reducción de la dimensionalidad) y visualizaciones en 2 y 3 dimensiones proporcionan información descriptiva útil sobre el dataset.\n",
    "\n",
    "## Trabajo futuro\n",
    "\n",
    "Mejorar la generación de nuevos sonidos\n",
    "Aplicar y comparar utilizando la técnica de “Style Transfer” (redes neuronales convolucionales)\n",
    "Utilizar la librería Essentia para obtener otros features del sonido (Centroide Espectral, Contenido en alta y baja frecuencia, inharmonicidad, etc)\n",
    "Recuperar estos features por medio de una API REST\n",
    "Encontrar un modelo predictivo\n"
   ]
  },
  {
   "cell_type": "code",
   "execution_count": null,
   "metadata": {},
   "outputs": [],
   "source": []
  }
 ],
 "metadata": {
  "kernelspec": {
   "display_name": "Python 3",
   "language": "python",
   "name": "python3"
  },
  "language_info": {
   "codemirror_mode": {
    "name": "ipython",
    "version": 3
   },
   "file_extension": ".py",
   "mimetype": "text/x-python",
   "name": "python",
   "nbconvert_exporter": "python",
   "pygments_lexer": "ipython3",
   "version": "3.7.1"
  }
 },
 "nbformat": 4,
 "nbformat_minor": 2
}
